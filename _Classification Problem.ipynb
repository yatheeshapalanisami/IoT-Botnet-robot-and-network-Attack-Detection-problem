{
 "cells": [
  {
   "cell_type": "markdown",
   "id": "5b4d0126",
   "metadata": {},
   "source": [
    "##  Classification Problem"
   ]
  },
  {
   "cell_type": "markdown",
   "id": "fc05ef09",
   "metadata": {},
   "source": [
    "## IoT Botnet (\"robot\" and \"network,\") Attack Detection problem"
   ]
  },
  {
   "cell_type": "code",
   "execution_count": 1,
   "id": "8899253d",
   "metadata": {},
   "outputs": [],
   "source": [
    "import numpy as np\n",
    "import pandas as pd\n",
    "import warnings\n",
    "warnings.filterwarnings('ignore')\n",
    "from sklearn.ensemble import RandomForestClassifier\n",
    "from sklearn.metrics import accuracy_score, precision_score, recall_score, f1_score\n",
    "from sklearn.model_selection import train_test_split"
   ]
  },
  {
   "cell_type": "code",
   "execution_count": 2,
   "id": "4e716d19",
   "metadata": {},
   "outputs": [
    {
     "data": {
      "text/html": [
       "<div>\n",
       "<style scoped>\n",
       "    .dataframe tbody tr th:only-of-type {\n",
       "        vertical-align: middle;\n",
       "    }\n",
       "\n",
       "    .dataframe tbody tr th {\n",
       "        vertical-align: top;\n",
       "    }\n",
       "\n",
       "    .dataframe thead th {\n",
       "        text-align: right;\n",
       "    }\n",
       "</style>\n",
       "<table border=\"1\" class=\"dataframe\">\n",
       "  <thead>\n",
       "    <tr style=\"text-align: right;\">\n",
       "      <th></th>\n",
       "      <th>MI_dir_L5_weight</th>\n",
       "      <th>MI_dir_L5_mean</th>\n",
       "      <th>MI_dir_L5_variance</th>\n",
       "      <th>MI_dir_L3_weight</th>\n",
       "      <th>MI_dir_L3_mean</th>\n",
       "      <th>MI_dir_L3_variance</th>\n",
       "      <th>MI_dir_L1_weight</th>\n",
       "      <th>MI_dir_L1_mean</th>\n",
       "      <th>MI_dir_L1_variance</th>\n",
       "      <th>MI_dir_L0.1_weight</th>\n",
       "      <th>...</th>\n",
       "      <th>HpHp_L0.1_pcc</th>\n",
       "      <th>HpHp_L0.01_weight</th>\n",
       "      <th>HpHp_L0.01_mean</th>\n",
       "      <th>HpHp_L0.01_std</th>\n",
       "      <th>HpHp_L0.01_magnitude</th>\n",
       "      <th>HpHp_L0.01_radius</th>\n",
       "      <th>HpHp_L0.01_covariance</th>\n",
       "      <th>HpHp_L0.01_pcc</th>\n",
       "      <th>Source</th>\n",
       "      <th>Class</th>\n",
       "    </tr>\n",
       "  </thead>\n",
       "  <tbody>\n",
       "    <tr>\n",
       "      <th>0</th>\n",
       "      <td>19.570634</td>\n",
       "      <td>152.679121</td>\n",
       "      <td>39991.937640</td>\n",
       "      <td>20.937891</td>\n",
       "      <td>150.455024</td>\n",
       "      <td>38960.674060</td>\n",
       "      <td>23.168006</td>\n",
       "      <td>145.454142</td>\n",
       "      <td>36954.215040</td>\n",
       "      <td>33.115077</td>\n",
       "      <td>...</td>\n",
       "      <td>0.468843</td>\n",
       "      <td>4.999756</td>\n",
       "      <td>181.799689</td>\n",
       "      <td>2.276210e+02</td>\n",
       "      <td>290.439555</td>\n",
       "      <td>5.957202e+04</td>\n",
       "      <td>1.831480e+04</td>\n",
       "      <td>4.692557e-01</td>\n",
       "      <td>Provision PT 838 Security Camera</td>\n",
       "      <td>BENIGN</td>\n",
       "    </tr>\n",
       "    <tr>\n",
       "      <th>1</th>\n",
       "      <td>49.893840</td>\n",
       "      <td>169.297843</td>\n",
       "      <td>54532.338720</td>\n",
       "      <td>62.957476</td>\n",
       "      <td>169.735104</td>\n",
       "      <td>54283.995040</td>\n",
       "      <td>82.340884</td>\n",
       "      <td>168.919514</td>\n",
       "      <td>53449.819730</td>\n",
       "      <td>98.214224</td>\n",
       "      <td>...</td>\n",
       "      <td>0.000000</td>\n",
       "      <td>1.999960</td>\n",
       "      <td>69.999921</td>\n",
       "      <td>4.000000e+00</td>\n",
       "      <td>101.862598</td>\n",
       "      <td>1.600000e+01</td>\n",
       "      <td>0.000000e+00</td>\n",
       "      <td>0.000000e+00</td>\n",
       "      <td>Provision PT 737E Security Camera</td>\n",
       "      <td>BENIGN</td>\n",
       "    </tr>\n",
       "    <tr>\n",
       "      <th>2</th>\n",
       "      <td>1.996527</td>\n",
       "      <td>449.011775</td>\n",
       "      <td>409.365474</td>\n",
       "      <td>2.002395</td>\n",
       "      <td>448.141152</td>\n",
       "      <td>739.076602</td>\n",
       "      <td>2.166552</td>\n",
       "      <td>419.128740</td>\n",
       "      <td>11039.485060</td>\n",
       "      <td>4.621621</td>\n",
       "      <td>...</td>\n",
       "      <td>0.000000</td>\n",
       "      <td>14.978833</td>\n",
       "      <td>455.354366</td>\n",
       "      <td>1.959295e+01</td>\n",
       "      <td>455.354366</td>\n",
       "      <td>3.838837e+02</td>\n",
       "      <td>0.000000e+00</td>\n",
       "      <td>0.000000e+00</td>\n",
       "      <td>Samsung SNH 1011 N Webcam</td>\n",
       "      <td>BENIGN</td>\n",
       "    </tr>\n",
       "    <tr>\n",
       "      <th>3</th>\n",
       "      <td>1.000000</td>\n",
       "      <td>60.000018</td>\n",
       "      <td>0.004849</td>\n",
       "      <td>1.000065</td>\n",
       "      <td>60.017569</td>\n",
       "      <td>4.743299</td>\n",
       "      <td>1.063813</td>\n",
       "      <td>76.195918</td>\n",
       "      <td>4110.590208</td>\n",
       "      <td>2.936177</td>\n",
       "      <td>...</td>\n",
       "      <td>0.000000</td>\n",
       "      <td>7.290294</td>\n",
       "      <td>60.000000</td>\n",
       "      <td>9.540000e-07</td>\n",
       "      <td>84.852814</td>\n",
       "      <td>1.290000e-12</td>\n",
       "      <td>8.690000e-30</td>\n",
       "      <td>9.560000e-18</td>\n",
       "      <td>SimpleHome XCS7 1002 WHT Security Camera</td>\n",
       "      <td>BENIGN</td>\n",
       "    </tr>\n",
       "    <tr>\n",
       "      <th>4</th>\n",
       "      <td>100.707918</td>\n",
       "      <td>226.708372</td>\n",
       "      <td>54562.182272</td>\n",
       "      <td>155.736482</td>\n",
       "      <td>252.269792</td>\n",
       "      <td>58012.457557</td>\n",
       "      <td>446.854937</td>\n",
       "      <td>301.030305</td>\n",
       "      <td>60959.734097</td>\n",
       "      <td>4257.526218</td>\n",
       "      <td>...</td>\n",
       "      <td>0.000000</td>\n",
       "      <td>1.000000</td>\n",
       "      <td>554.000000</td>\n",
       "      <td>0.000000e+00</td>\n",
       "      <td>554.000000</td>\n",
       "      <td>0.000000e+00</td>\n",
       "      <td>0.000000e+00</td>\n",
       "      <td>0.000000e+00</td>\n",
       "      <td>Provision PT 838 Security Camera</td>\n",
       "      <td>mirai_udp_attack</td>\n",
       "    </tr>\n",
       "  </tbody>\n",
       "</table>\n",
       "<p>5 rows × 117 columns</p>\n",
       "</div>"
      ],
      "text/plain": [
       "   MI_dir_L5_weight  MI_dir_L5_mean  MI_dir_L5_variance  MI_dir_L3_weight  \\\n",
       "0         19.570634      152.679121        39991.937640         20.937891   \n",
       "1         49.893840      169.297843        54532.338720         62.957476   \n",
       "2          1.996527      449.011775          409.365474          2.002395   \n",
       "3          1.000000       60.000018            0.004849          1.000065   \n",
       "4        100.707918      226.708372        54562.182272        155.736482   \n",
       "\n",
       "   MI_dir_L3_mean  MI_dir_L3_variance  MI_dir_L1_weight  MI_dir_L1_mean  \\\n",
       "0      150.455024        38960.674060         23.168006      145.454142   \n",
       "1      169.735104        54283.995040         82.340884      168.919514   \n",
       "2      448.141152          739.076602          2.166552      419.128740   \n",
       "3       60.017569            4.743299          1.063813       76.195918   \n",
       "4      252.269792        58012.457557        446.854937      301.030305   \n",
       "\n",
       "   MI_dir_L1_variance  MI_dir_L0.1_weight  ...  HpHp_L0.1_pcc  \\\n",
       "0        36954.215040           33.115077  ...       0.468843   \n",
       "1        53449.819730           98.214224  ...       0.000000   \n",
       "2        11039.485060            4.621621  ...       0.000000   \n",
       "3         4110.590208            2.936177  ...       0.000000   \n",
       "4        60959.734097         4257.526218  ...       0.000000   \n",
       "\n",
       "   HpHp_L0.01_weight  HpHp_L0.01_mean  HpHp_L0.01_std  HpHp_L0.01_magnitude  \\\n",
       "0           4.999756       181.799689    2.276210e+02            290.439555   \n",
       "1           1.999960        69.999921    4.000000e+00            101.862598   \n",
       "2          14.978833       455.354366    1.959295e+01            455.354366   \n",
       "3           7.290294        60.000000    9.540000e-07             84.852814   \n",
       "4           1.000000       554.000000    0.000000e+00            554.000000   \n",
       "\n",
       "   HpHp_L0.01_radius  HpHp_L0.01_covariance  HpHp_L0.01_pcc  \\\n",
       "0       5.957202e+04           1.831480e+04    4.692557e-01   \n",
       "1       1.600000e+01           0.000000e+00    0.000000e+00   \n",
       "2       3.838837e+02           0.000000e+00    0.000000e+00   \n",
       "3       1.290000e-12           8.690000e-30    9.560000e-18   \n",
       "4       0.000000e+00           0.000000e+00    0.000000e+00   \n",
       "\n",
       "                                     Source             Class  \n",
       "0          Provision PT 838 Security Camera            BENIGN  \n",
       "1         Provision PT 737E Security Camera            BENIGN  \n",
       "2                 Samsung SNH 1011 N Webcam            BENIGN  \n",
       "3  SimpleHome XCS7 1002 WHT Security Camera            BENIGN  \n",
       "4          Provision PT 838 Security Camera  mirai_udp_attack  \n",
       "\n",
       "[5 rows x 117 columns]"
      ]
     },
     "execution_count": 2,
     "metadata": {},
     "output_type": "execute_result"
    }
   ],
   "source": [
    "df = pd.read_csv(\"iot_static_data.csv\")\n",
    "df.head(5)"
   ]
  },
  {
   "cell_type": "code",
   "execution_count": 3,
   "id": "012fb4d4",
   "metadata": {},
   "outputs": [
    {
     "name": "stdout",
     "output_type": "stream",
     "text": [
      "<class 'pandas.core.frame.DataFrame'>\n",
      "RangeIndex: 25609 entries, 0 to 25608\n",
      "Columns: 117 entries, MI_dir_L5_weight to Class\n",
      "dtypes: float64(115), object(2)\n",
      "memory usage: 22.9+ MB\n"
     ]
    }
   ],
   "source": [
    "df.info()"
   ]
  },
  {
   "cell_type": "code",
   "execution_count": 4,
   "id": "31aaaa62",
   "metadata": {},
   "outputs": [
    {
     "data": {
      "text/html": [
       "<div>\n",
       "<style scoped>\n",
       "    .dataframe tbody tr th:only-of-type {\n",
       "        vertical-align: middle;\n",
       "    }\n",
       "\n",
       "    .dataframe tbody tr th {\n",
       "        vertical-align: top;\n",
       "    }\n",
       "\n",
       "    .dataframe thead th {\n",
       "        text-align: right;\n",
       "    }\n",
       "</style>\n",
       "<table border=\"1\" class=\"dataframe\">\n",
       "  <thead>\n",
       "    <tr style=\"text-align: right;\">\n",
       "      <th></th>\n",
       "      <th>MI_dir_L5_weight</th>\n",
       "      <th>MI_dir_L5_mean</th>\n",
       "      <th>MI_dir_L5_variance</th>\n",
       "      <th>MI_dir_L3_weight</th>\n",
       "      <th>MI_dir_L3_mean</th>\n",
       "      <th>MI_dir_L3_variance</th>\n",
       "      <th>MI_dir_L1_weight</th>\n",
       "      <th>MI_dir_L1_mean</th>\n",
       "      <th>MI_dir_L1_variance</th>\n",
       "      <th>MI_dir_L0.1_weight</th>\n",
       "      <th>...</th>\n",
       "      <th>HpHp_L0.1_radius</th>\n",
       "      <th>HpHp_L0.1_covariance</th>\n",
       "      <th>HpHp_L0.1_pcc</th>\n",
       "      <th>HpHp_L0.01_weight</th>\n",
       "      <th>HpHp_L0.01_mean</th>\n",
       "      <th>HpHp_L0.01_std</th>\n",
       "      <th>HpHp_L0.01_magnitude</th>\n",
       "      <th>HpHp_L0.01_radius</th>\n",
       "      <th>HpHp_L0.01_covariance</th>\n",
       "      <th>HpHp_L0.01_pcc</th>\n",
       "    </tr>\n",
       "  </thead>\n",
       "  <tbody>\n",
       "    <tr>\n",
       "      <th>count</th>\n",
       "      <td>25609.000000</td>\n",
       "      <td>25609.000000</td>\n",
       "      <td>2.560900e+04</td>\n",
       "      <td>25609.000000</td>\n",
       "      <td>25609.000000</td>\n",
       "      <td>2.560900e+04</td>\n",
       "      <td>25609.000000</td>\n",
       "      <td>25609.000000</td>\n",
       "      <td>25609.000000</td>\n",
       "      <td>25609.000000</td>\n",
       "      <td>...</td>\n",
       "      <td>2.560900e+04</td>\n",
       "      <td>2.560900e+04</td>\n",
       "      <td>2.560900e+04</td>\n",
       "      <td>25609.000000</td>\n",
       "      <td>25609.000000</td>\n",
       "      <td>2.560900e+04</td>\n",
       "      <td>25609.000000</td>\n",
       "      <td>2.560900e+04</td>\n",
       "      <td>2.560900e+04</td>\n",
       "      <td>25609.000000</td>\n",
       "    </tr>\n",
       "    <tr>\n",
       "      <th>mean</th>\n",
       "      <td>16.458215</td>\n",
       "      <td>138.570936</td>\n",
       "      <td>7.768559e+03</td>\n",
       "      <td>24.703832</td>\n",
       "      <td>138.614095</td>\n",
       "      <td>8.279129e+03</td>\n",
       "      <td>64.260234</td>\n",
       "      <td>139.362935</td>\n",
       "      <td>9213.286937</td>\n",
       "      <td>555.191870</td>\n",
       "      <td>...</td>\n",
       "      <td>9.737206e+03</td>\n",
       "      <td>8.883111e+02</td>\n",
       "      <td>1.836737e-02</td>\n",
       "      <td>15.419695</td>\n",
       "      <td>138.774908</td>\n",
       "      <td>2.331401e+01</td>\n",
       "      <td>181.843879</td>\n",
       "      <td>1.152385e+04</td>\n",
       "      <td>8.871102e+02</td>\n",
       "      <td>0.028415</td>\n",
       "    </tr>\n",
       "    <tr>\n",
       "      <th>std</th>\n",
       "      <td>41.087239</td>\n",
       "      <td>129.673709</td>\n",
       "      <td>2.668021e+04</td>\n",
       "      <td>64.930734</td>\n",
       "      <td>126.663855</td>\n",
       "      <td>2.694292e+04</td>\n",
       "      <td>183.925917</td>\n",
       "      <td>122.343522</td>\n",
       "      <td>26326.030024</td>\n",
       "      <td>1694.895744</td>\n",
       "      <td>...</td>\n",
       "      <td>4.675494e+04</td>\n",
       "      <td>6.214110e+03</td>\n",
       "      <td>1.686189e-01</td>\n",
       "      <td>273.481167</td>\n",
       "      <td>140.555584</td>\n",
       "      <td>6.441393e+01</td>\n",
       "      <td>166.863690</td>\n",
       "      <td>4.927406e+04</td>\n",
       "      <td>7.054763e+03</td>\n",
       "      <td>0.184214</td>\n",
       "    </tr>\n",
       "    <tr>\n",
       "      <th>min</th>\n",
       "      <td>1.000000</td>\n",
       "      <td>60.000000</td>\n",
       "      <td>0.000000e+00</td>\n",
       "      <td>1.000000</td>\n",
       "      <td>60.000000</td>\n",
       "      <td>0.000000e+00</td>\n",
       "      <td>1.000000</td>\n",
       "      <td>60.000000</td>\n",
       "      <td>0.000000</td>\n",
       "      <td>1.000000</td>\n",
       "      <td>...</td>\n",
       "      <td>0.000000e+00</td>\n",
       "      <td>-8.584038e+04</td>\n",
       "      <td>-1.551473e+00</td>\n",
       "      <td>1.000000</td>\n",
       "      <td>60.000000</td>\n",
       "      <td>0.000000e+00</td>\n",
       "      <td>60.000000</td>\n",
       "      <td>0.000000e+00</td>\n",
       "      <td>-1.812996e+05</td>\n",
       "      <td>-1.692781</td>\n",
       "    </tr>\n",
       "    <tr>\n",
       "      <th>25%</th>\n",
       "      <td>1.000001</td>\n",
       "      <td>66.000000</td>\n",
       "      <td>9.090000e-13</td>\n",
       "      <td>1.000236</td>\n",
       "      <td>66.000000</td>\n",
       "      <td>1.770000e-09</td>\n",
       "      <td>1.128262</td>\n",
       "      <td>66.043013</td>\n",
       "      <td>0.098128</td>\n",
       "      <td>3.430610</td>\n",
       "      <td>...</td>\n",
       "      <td>4.550000e-13</td>\n",
       "      <td>-2.150000e-19</td>\n",
       "      <td>-2.770000e-17</td>\n",
       "      <td>2.999914</td>\n",
       "      <td>66.021257</td>\n",
       "      <td>6.740000e-07</td>\n",
       "      <td>84.852814</td>\n",
       "      <td>9.090000e-13</td>\n",
       "      <td>-2.530000e-29</td>\n",
       "      <td>0.000000</td>\n",
       "    </tr>\n",
       "    <tr>\n",
       "      <th>50%</th>\n",
       "      <td>1.594794</td>\n",
       "      <td>81.663628</td>\n",
       "      <td>6.869070e-04</td>\n",
       "      <td>1.819242</td>\n",
       "      <td>81.747426</td>\n",
       "      <td>2.517763e-01</td>\n",
       "      <td>2.026690</td>\n",
       "      <td>84.299338</td>\n",
       "      <td>41.591685</td>\n",
       "      <td>8.311976</td>\n",
       "      <td>...</td>\n",
       "      <td>2.590000e-06</td>\n",
       "      <td>0.000000e+00</td>\n",
       "      <td>0.000000e+00</td>\n",
       "      <td>5.824137</td>\n",
       "      <td>75.000000</td>\n",
       "      <td>8.972650e-02</td>\n",
       "      <td>115.133698</td>\n",
       "      <td>1.600000e+01</td>\n",
       "      <td>0.000000e+00</td>\n",
       "      <td>0.000000</td>\n",
       "    </tr>\n",
       "    <tr>\n",
       "      <th>75%</th>\n",
       "      <td>2.999965</td>\n",
       "      <td>148.752850</td>\n",
       "      <td>1.814097e+02</td>\n",
       "      <td>3.139729</td>\n",
       "      <td>150.499727</td>\n",
       "      <td>3.631427e+02</td>\n",
       "      <td>4.005944</td>\n",
       "      <td>147.252315</td>\n",
       "      <td>1930.709057</td>\n",
       "      <td>12.569276</td>\n",
       "      <td>...</td>\n",
       "      <td>2.234147e+02</td>\n",
       "      <td>1.130000e-38</td>\n",
       "      <td>0.000000e+00</td>\n",
       "      <td>17.515348</td>\n",
       "      <td>102.000000</td>\n",
       "      <td>9.846490e+00</td>\n",
       "      <td>144.249783</td>\n",
       "      <td>2.521173e+02</td>\n",
       "      <td>5.000000e-06</td>\n",
       "      <td>0.000016</td>\n",
       "    </tr>\n",
       "    <tr>\n",
       "      <th>max</th>\n",
       "      <td>349.606606</td>\n",
       "      <td>1451.207170</td>\n",
       "      <td>4.888213e+05</td>\n",
       "      <td>516.761693</td>\n",
       "      <td>1448.606519</td>\n",
       "      <td>4.731581e+05</td>\n",
       "      <td>1090.951084</td>\n",
       "      <td>1433.998154</td>\n",
       "      <td>457995.701700</td>\n",
       "      <td>8903.129283</td>\n",
       "      <td>...</td>\n",
       "      <td>4.721643e+05</td>\n",
       "      <td>1.309683e+05</td>\n",
       "      <td>2.669061e+00</td>\n",
       "      <td>25682.418417</td>\n",
       "      <td>1470.000000</td>\n",
       "      <td>6.810012e+02</td>\n",
       "      <td>1470.000000</td>\n",
       "      <td>4.795595e+05</td>\n",
       "      <td>1.311862e+05</td>\n",
       "      <td>2.721607</td>\n",
       "    </tr>\n",
       "  </tbody>\n",
       "</table>\n",
       "<p>8 rows × 115 columns</p>\n",
       "</div>"
      ],
      "text/plain": [
       "       MI_dir_L5_weight  MI_dir_L5_mean  MI_dir_L5_variance  MI_dir_L3_weight  \\\n",
       "count      25609.000000    25609.000000        2.560900e+04      25609.000000   \n",
       "mean          16.458215      138.570936        7.768559e+03         24.703832   \n",
       "std           41.087239      129.673709        2.668021e+04         64.930734   \n",
       "min            1.000000       60.000000        0.000000e+00          1.000000   \n",
       "25%            1.000001       66.000000        9.090000e-13          1.000236   \n",
       "50%            1.594794       81.663628        6.869070e-04          1.819242   \n",
       "75%            2.999965      148.752850        1.814097e+02          3.139729   \n",
       "max          349.606606     1451.207170        4.888213e+05        516.761693   \n",
       "\n",
       "       MI_dir_L3_mean  MI_dir_L3_variance  MI_dir_L1_weight  MI_dir_L1_mean  \\\n",
       "count    25609.000000        2.560900e+04      25609.000000    25609.000000   \n",
       "mean       138.614095        8.279129e+03         64.260234      139.362935   \n",
       "std        126.663855        2.694292e+04        183.925917      122.343522   \n",
       "min         60.000000        0.000000e+00          1.000000       60.000000   \n",
       "25%         66.000000        1.770000e-09          1.128262       66.043013   \n",
       "50%         81.747426        2.517763e-01          2.026690       84.299338   \n",
       "75%        150.499727        3.631427e+02          4.005944      147.252315   \n",
       "max       1448.606519        4.731581e+05       1090.951084     1433.998154   \n",
       "\n",
       "       MI_dir_L1_variance  MI_dir_L0.1_weight  ...  HpHp_L0.1_radius  \\\n",
       "count        25609.000000        25609.000000  ...      2.560900e+04   \n",
       "mean          9213.286937          555.191870  ...      9.737206e+03   \n",
       "std          26326.030024         1694.895744  ...      4.675494e+04   \n",
       "min              0.000000            1.000000  ...      0.000000e+00   \n",
       "25%              0.098128            3.430610  ...      4.550000e-13   \n",
       "50%             41.591685            8.311976  ...      2.590000e-06   \n",
       "75%           1930.709057           12.569276  ...      2.234147e+02   \n",
       "max         457995.701700         8903.129283  ...      4.721643e+05   \n",
       "\n",
       "       HpHp_L0.1_covariance  HpHp_L0.1_pcc  HpHp_L0.01_weight  \\\n",
       "count          2.560900e+04   2.560900e+04       25609.000000   \n",
       "mean           8.883111e+02   1.836737e-02          15.419695   \n",
       "std            6.214110e+03   1.686189e-01         273.481167   \n",
       "min           -8.584038e+04  -1.551473e+00           1.000000   \n",
       "25%           -2.150000e-19  -2.770000e-17           2.999914   \n",
       "50%            0.000000e+00   0.000000e+00           5.824137   \n",
       "75%            1.130000e-38   0.000000e+00          17.515348   \n",
       "max            1.309683e+05   2.669061e+00       25682.418417   \n",
       "\n",
       "       HpHp_L0.01_mean  HpHp_L0.01_std  HpHp_L0.01_magnitude  \\\n",
       "count     25609.000000    2.560900e+04          25609.000000   \n",
       "mean        138.774908    2.331401e+01            181.843879   \n",
       "std         140.555584    6.441393e+01            166.863690   \n",
       "min          60.000000    0.000000e+00             60.000000   \n",
       "25%          66.021257    6.740000e-07             84.852814   \n",
       "50%          75.000000    8.972650e-02            115.133698   \n",
       "75%         102.000000    9.846490e+00            144.249783   \n",
       "max        1470.000000    6.810012e+02           1470.000000   \n",
       "\n",
       "       HpHp_L0.01_radius  HpHp_L0.01_covariance  HpHp_L0.01_pcc  \n",
       "count       2.560900e+04           2.560900e+04    25609.000000  \n",
       "mean        1.152385e+04           8.871102e+02        0.028415  \n",
       "std         4.927406e+04           7.054763e+03        0.184214  \n",
       "min         0.000000e+00          -1.812996e+05       -1.692781  \n",
       "25%         9.090000e-13          -2.530000e-29        0.000000  \n",
       "50%         1.600000e+01           0.000000e+00        0.000000  \n",
       "75%         2.521173e+02           5.000000e-06        0.000016  \n",
       "max         4.795595e+05           1.311862e+05        2.721607  \n",
       "\n",
       "[8 rows x 115 columns]"
      ]
     },
     "execution_count": 4,
     "metadata": {},
     "output_type": "execute_result"
    }
   ],
   "source": [
    "df.describe()"
   ]
  },
  {
   "cell_type": "code",
   "execution_count": 5,
   "id": "64b367e5",
   "metadata": {},
   "outputs": [
    {
     "data": {
      "text/plain": [
       "MI_dir_L5_weight         0\n",
       "MI_dir_L5_mean           0\n",
       "MI_dir_L5_variance       0\n",
       "MI_dir_L3_weight         0\n",
       "MI_dir_L3_mean           0\n",
       "                        ..\n",
       "HpHp_L0.01_radius        0\n",
       "HpHp_L0.01_covariance    0\n",
       "HpHp_L0.01_pcc           0\n",
       "Source                   0\n",
       "Class                    0\n",
       "Length: 117, dtype: int64"
      ]
     },
     "execution_count": 5,
     "metadata": {},
     "output_type": "execute_result"
    }
   ],
   "source": [
    "df.isnull().sum()"
   ]
  },
  {
   "cell_type": "code",
   "execution_count": 6,
   "id": "2b5d3beb",
   "metadata": {},
   "outputs": [],
   "source": [
    "## function to get Dimensions ,Shape, Total NA values and Distinct Values\n",
    "\n",
    "def list_na_values(df):\n",
    "    if isinstance(df, pd.DataFrame):\n",
    "        total_na = df.isna().sum().sum()\n",
    "        print(\"Dimensions : %d rows, %d columns\" % (df.shape[0], df.shape[1]))\n",
    "        print(\"Total NA Values : %d \" % (total_na))\n",
    "        print(\"%38s %10s     %10s %10s\" % (\"Column Name\", \"Data Type\", \"#Distinct\", \"NA Values\"))\n",
    "        col_name = df.columns\n",
    "        dtyp = df.dtypes\n",
    "        uniq = df.nunique()\n",
    "        na_val = df.isna().sum()\n",
    "        for i in range(len(df.columns)):\n",
    "            print(\"%38s %10s   %10s %10s\" % (col_name[i], dtyp[i], uniq[i], na_val[i]))\n",
    "        \n",
    "    else:\n",
    "        print(\"Expect a DataFrame but got a %15s\" % (type(df)))"
   ]
  },
  {
   "cell_type": "code",
   "execution_count": 7,
   "id": "50684c71",
   "metadata": {},
   "outputs": [
    {
     "name": "stdout",
     "output_type": "stream",
     "text": [
      "Dimensions : 25609 rows, 117 columns\n",
      "Total NA Values : 0 \n",
      "                           Column Name  Data Type      #Distinct  NA Values\n",
      "                      MI_dir_L5_weight    float64        18246          0\n",
      "                        MI_dir_L5_mean    float64        13695          0\n",
      "                    MI_dir_L5_variance    float64        15566          0\n",
      "                      MI_dir_L3_weight    float64        20955          0\n",
      "                        MI_dir_L3_mean    float64        16953          0\n",
      "                    MI_dir_L3_variance    float64        18577          0\n",
      "                      MI_dir_L1_weight    float64        23190          0\n",
      "                        MI_dir_L1_mean    float64        22531          0\n",
      "                    MI_dir_L1_variance    float64        23618          0\n",
      "                    MI_dir_L0.1_weight    float64        24583          0\n",
      "                      MI_dir_L0.1_mean    float64        24401          0\n",
      "                  MI_dir_L0.1_variance    float64        24403          0\n",
      "                   MI_dir_L0.01_weight    float64        24613          0\n",
      "                     MI_dir_L0.01_mean    float64        24433          0\n",
      "                 MI_dir_L0.01_variance    float64        24441          0\n",
      "                           H_L5_weight    float64        18246          0\n",
      "                             H_L5_mean    float64        13695          0\n",
      "                         H_L5_variance    float64        15566          0\n",
      "                           H_L3_weight    float64        20956          0\n",
      "                             H_L3_mean    float64        16954          0\n",
      "                         H_L3_variance    float64        18579          0\n",
      "                           H_L1_weight    float64        23193          0\n",
      "                             H_L1_mean    float64        22534          0\n",
      "                         H_L1_variance    float64        23621          0\n",
      "                         H_L0.1_weight    float64        24590          0\n",
      "                           H_L0.1_mean    float64        24406          0\n",
      "                       H_L0.1_variance    float64        24410          0\n",
      "                        H_L0.01_weight    float64        24614          0\n",
      "                          H_L0.01_mean    float64        24435          0\n",
      "                      H_L0.01_variance    float64        24444          0\n",
      "                          HH_L5_weight    float64        12263          0\n",
      "                            HH_L5_mean    float64         7130          0\n",
      "                             HH_L5_std    float64         8207          0\n",
      "                       HH_L5_magnitude    float64         9185          0\n",
      "                          HH_L5_radius    float64        10717          0\n",
      "                      HH_L5_covariance    float64        12288          0\n",
      "                             HH_L5_pcc    float64         7293          0\n",
      "                          HH_L3_weight    float64        13853          0\n",
      "                            HH_L3_mean    float64         8655          0\n",
      "                             HH_L3_std    float64        10369          0\n",
      "                       HH_L3_magnitude    float64        11606          0\n",
      "                          HH_L3_radius    float64        13258          0\n",
      "                      HH_L3_covariance    float64        13112          0\n",
      "                             HH_L3_pcc    float64         8630          0\n",
      "                          HH_L1_weight    float64        15768          0\n",
      "                            HH_L1_mean    float64        13340          0\n",
      "                             HH_L1_std    float64        15615          0\n",
      "                       HH_L1_magnitude    float64        15485          0\n",
      "                          HH_L1_radius    float64        15601          0\n",
      "                      HH_L1_covariance    float64        17735          0\n",
      "                             HH_L1_pcc    float64        13391          0\n",
      "                        HH_L0.1_weight    float64        23627          0\n",
      "                          HH_L0.1_mean    float64        17883          0\n",
      "                           HH_L0.1_std    float64        18627          0\n",
      "                     HH_L0.1_magnitude    float64        17873          0\n",
      "                        HH_L0.1_radius    float64        18452          0\n",
      "                    HH_L0.1_covariance    float64        18566          0\n",
      "                           HH_L0.1_pcc    float64        16167          0\n",
      "                       HH_L0.01_weight    float64        23739          0\n",
      "                         HH_L0.01_mean    float64        19294          0\n",
      "                          HH_L0.01_std    float64        19558          0\n",
      "                    HH_L0.01_magnitude    float64        19334          0\n",
      "                       HH_L0.01_radius    float64        19657          0\n",
      "                   HH_L0.01_covariance    float64        19160          0\n",
      "                          HH_L0.01_pcc    float64        18245          0\n",
      "                      HH_jit_L5_weight    float64        12263          0\n",
      "                        HH_jit_L5_mean    float64        25246          0\n",
      "                    HH_jit_L5_variance    float64        13247          0\n",
      "                      HH_jit_L3_weight    float64        13853          0\n",
      "                        HH_jit_L3_mean    float64        25247          0\n",
      "                    HH_jit_L3_variance    float64        14733          0\n",
      "                      HH_jit_L1_weight    float64        15768          0\n",
      "                        HH_jit_L1_mean    float64        25248          0\n",
      "                    HH_jit_L1_variance    float64        17801          0\n",
      "                    HH_jit_L0.1_weight    float64        23627          0\n",
      "                      HH_jit_L0.1_mean    float64        25271          0\n",
      "                  HH_jit_L0.1_variance    float64        23217          0\n",
      "                   HH_jit_L0.01_weight    float64        23739          0\n",
      "                     HH_jit_L0.01_mean    float64        25273          0\n",
      "                 HH_jit_L0.01_variance    float64        23547          0\n",
      "                        HpHp_L5_weight    float64         7023          0\n",
      "                          HpHp_L5_mean    float64         4493          0\n",
      "                           HpHp_L5_std    float64         4623          0\n",
      "                     HpHp_L5_magnitude    float64         5020          0\n",
      "                        HpHp_L5_radius    float64         5271          0\n",
      "                    HpHp_L5_covariance    float64         7757          0\n",
      "                           HpHp_L5_pcc    float64         3183          0\n",
      "                        HpHp_L3_weight    float64         7448          0\n",
      "                          HpHp_L3_mean    float64         4727          0\n",
      "                           HpHp_L3_std    float64         5629          0\n",
      "                     HpHp_L3_magnitude    float64         5399          0\n",
      "                        HpHp_L3_radius    float64         6098          0\n",
      "                    HpHp_L3_covariance    float64         9074          0\n",
      "                           HpHp_L3_pcc    float64         4243          0\n",
      "                        HpHp_L1_weight    float64        12314          0\n",
      "                          HpHp_L1_mean    float64         6158          0\n",
      "                           HpHp_L1_std    float64         7342          0\n",
      "                     HpHp_L1_magnitude    float64         7928          0\n",
      "                        HpHp_L1_radius    float64         9063          0\n",
      "                    HpHp_L1_covariance    float64        14383          0\n",
      "                           HpHp_L1_pcc    float64         7690          0\n",
      "                      HpHp_L0.1_weight    float64        20676          0\n",
      "                        HpHp_L0.1_mean    float64        10233          0\n",
      "                         HpHp_L0.1_std    float64        11352          0\n",
      "                   HpHp_L0.1_magnitude    float64        12011          0\n",
      "                      HpHp_L0.1_radius    float64        12438          0\n",
      "                  HpHp_L0.1_covariance    float64        14385          0\n",
      "                         HpHp_L0.1_pcc    float64        10743          0\n",
      "                     HpHp_L0.01_weight    float64        20770          0\n",
      "                       HpHp_L0.01_mean    float64        13017          0\n",
      "                        HpHp_L0.01_std    float64        12885          0\n",
      "                  HpHp_L0.01_magnitude    float64        13148          0\n",
      "                     HpHp_L0.01_radius    float64        13000          0\n",
      "                 HpHp_L0.01_covariance    float64        14278          0\n",
      "                        HpHp_L0.01_pcc    float64        13102          0\n",
      "                                Source     object            9          0\n",
      "                                 Class     object           11          0\n"
     ]
    }
   ],
   "source": [
    "list_na_values(df)"
   ]
  },
  {
   "cell_type": "code",
   "execution_count": 8,
   "id": "2174d407",
   "metadata": {},
   "outputs": [
    {
     "data": {
      "text/plain": [
       "BENIGN                   22287\n",
       "mirai_udp_attack          1774\n",
       "gafgyt_udp_attack          446\n",
       "gafgyt_junk_attack         377\n",
       "gafgyt_tcp_attack          213\n",
       "gafgyt_scan_attack         200\n",
       "mirai_syn_attack           101\n",
       "mirai_ack_attack            96\n",
       "mirai_scan_attack           86\n",
       "gafgyt_combo_attack         18\n",
       "mirai_udpplain_attack       11\n",
       "Name: Class, dtype: int64"
      ]
     },
     "execution_count": 8,
     "metadata": {},
     "output_type": "execute_result"
    }
   ],
   "source": [
    "df[\"Class\"].value_counts()"
   ]
  },
  {
   "cell_type": "code",
   "execution_count": 9,
   "id": "d955e8cc",
   "metadata": {},
   "outputs": [
    {
     "data": {
      "text/plain": [
       "array(['BENIGN', 'mirai_udp_attack', 'mirai_ack_attack',\n",
       "       'gafgyt_scan_attack', 'mirai_scan_attack', 'gafgyt_tcp_attack',\n",
       "       'gafgyt_udp_attack', 'gafgyt_junk_attack', 'gafgyt_combo_attack',\n",
       "       'mirai_syn_attack', 'mirai_udpplain_attack'], dtype=object)"
      ]
     },
     "execution_count": 9,
     "metadata": {},
     "output_type": "execute_result"
    }
   ],
   "source": [
    "df[\"Class\"].unique()"
   ]
  },
  {
   "cell_type": "code",
   "execution_count": 10,
   "id": "67e4ce1d",
   "metadata": {},
   "outputs": [
    {
     "data": {
      "text/plain": [
       "['Source', 'Class']"
      ]
     },
     "execution_count": 10,
     "metadata": {},
     "output_type": "execute_result"
    }
   ],
   "source": [
    "categorical = [col for col in df.columns if df[col].dtypes == 'O']\n",
    "\n",
    "categorical"
   ]
  },
  {
   "cell_type": "code",
   "execution_count": 11,
   "id": "da093880",
   "metadata": {},
   "outputs": [
    {
     "data": {
      "text/plain": [
       "array(['Provision PT 838 Security Camera',\n",
       "       'Provision PT 737E Security Camera', 'Samsung SNH 1011 N Webcam',\n",
       "       'SimpleHome XCS7 1002 WHT Security Camera',\n",
       "       'Philips B120N10 Baby Monitor',\n",
       "       'SimpleHome XCS7 1003 WHT Security Camera', 'Ennio Doorbell',\n",
       "       'Danmini Doorbell', 'Ecobee Thermostat'], dtype=object)"
      ]
     },
     "execution_count": 11,
     "metadata": {},
     "output_type": "execute_result"
    }
   ],
   "source": [
    "from sklearn.preprocessing import LabelEncoder\n",
    "encoder = LabelEncoder()\n",
    "df[\"Class\"] = encoder.fit_transform(df[\"Class\"])\n",
    "df[\"Source\"].unique()"
   ]
  },
  {
   "cell_type": "code",
   "execution_count": 12,
   "id": "ed9bbe5e",
   "metadata": {},
   "outputs": [],
   "source": [
    "df[\"Source\"] = encoder.fit_transform(df[\"Source\"])"
   ]
  },
  {
   "cell_type": "code",
   "execution_count": 13,
   "id": "72e8e4ff",
   "metadata": {},
   "outputs": [
    {
     "data": {
      "text/html": [
       "<div>\n",
       "<style scoped>\n",
       "    .dataframe tbody tr th:only-of-type {\n",
       "        vertical-align: middle;\n",
       "    }\n",
       "\n",
       "    .dataframe tbody tr th {\n",
       "        vertical-align: top;\n",
       "    }\n",
       "\n",
       "    .dataframe thead th {\n",
       "        text-align: right;\n",
       "    }\n",
       "</style>\n",
       "<table border=\"1\" class=\"dataframe\">\n",
       "  <thead>\n",
       "    <tr style=\"text-align: right;\">\n",
       "      <th></th>\n",
       "      <th>MI_dir_L5_weight</th>\n",
       "      <th>MI_dir_L5_mean</th>\n",
       "      <th>MI_dir_L5_variance</th>\n",
       "      <th>MI_dir_L3_weight</th>\n",
       "      <th>MI_dir_L3_mean</th>\n",
       "      <th>MI_dir_L3_variance</th>\n",
       "      <th>MI_dir_L1_weight</th>\n",
       "      <th>MI_dir_L1_mean</th>\n",
       "      <th>MI_dir_L1_variance</th>\n",
       "      <th>MI_dir_L0.1_weight</th>\n",
       "      <th>...</th>\n",
       "      <th>HpHp_L0.1_pcc</th>\n",
       "      <th>HpHp_L0.01_weight</th>\n",
       "      <th>HpHp_L0.01_mean</th>\n",
       "      <th>HpHp_L0.01_std</th>\n",
       "      <th>HpHp_L0.01_magnitude</th>\n",
       "      <th>HpHp_L0.01_radius</th>\n",
       "      <th>HpHp_L0.01_covariance</th>\n",
       "      <th>HpHp_L0.01_pcc</th>\n",
       "      <th>Source</th>\n",
       "      <th>Class</th>\n",
       "    </tr>\n",
       "  </thead>\n",
       "  <tbody>\n",
       "    <tr>\n",
       "      <th>0</th>\n",
       "      <td>19.570634</td>\n",
       "      <td>152.679121</td>\n",
       "      <td>39991.937640</td>\n",
       "      <td>20.937891</td>\n",
       "      <td>150.455024</td>\n",
       "      <td>38960.674060</td>\n",
       "      <td>23.168006</td>\n",
       "      <td>145.454142</td>\n",
       "      <td>36954.215040</td>\n",
       "      <td>33.115077</td>\n",
       "      <td>...</td>\n",
       "      <td>0.468843</td>\n",
       "      <td>4.999756</td>\n",
       "      <td>181.799689</td>\n",
       "      <td>2.276210e+02</td>\n",
       "      <td>290.439555</td>\n",
       "      <td>5.957202e+04</td>\n",
       "      <td>1.831480e+04</td>\n",
       "      <td>4.692557e-01</td>\n",
       "      <td>5</td>\n",
       "      <td>0</td>\n",
       "    </tr>\n",
       "    <tr>\n",
       "      <th>1</th>\n",
       "      <td>49.893840</td>\n",
       "      <td>169.297843</td>\n",
       "      <td>54532.338720</td>\n",
       "      <td>62.957476</td>\n",
       "      <td>169.735104</td>\n",
       "      <td>54283.995040</td>\n",
       "      <td>82.340884</td>\n",
       "      <td>168.919514</td>\n",
       "      <td>53449.819730</td>\n",
       "      <td>98.214224</td>\n",
       "      <td>...</td>\n",
       "      <td>0.000000</td>\n",
       "      <td>1.999960</td>\n",
       "      <td>69.999921</td>\n",
       "      <td>4.000000e+00</td>\n",
       "      <td>101.862598</td>\n",
       "      <td>1.600000e+01</td>\n",
       "      <td>0.000000e+00</td>\n",
       "      <td>0.000000e+00</td>\n",
       "      <td>4</td>\n",
       "      <td>0</td>\n",
       "    </tr>\n",
       "    <tr>\n",
       "      <th>2</th>\n",
       "      <td>1.996527</td>\n",
       "      <td>449.011775</td>\n",
       "      <td>409.365474</td>\n",
       "      <td>2.002395</td>\n",
       "      <td>448.141152</td>\n",
       "      <td>739.076602</td>\n",
       "      <td>2.166552</td>\n",
       "      <td>419.128740</td>\n",
       "      <td>11039.485060</td>\n",
       "      <td>4.621621</td>\n",
       "      <td>...</td>\n",
       "      <td>0.000000</td>\n",
       "      <td>14.978833</td>\n",
       "      <td>455.354366</td>\n",
       "      <td>1.959295e+01</td>\n",
       "      <td>455.354366</td>\n",
       "      <td>3.838837e+02</td>\n",
       "      <td>0.000000e+00</td>\n",
       "      <td>0.000000e+00</td>\n",
       "      <td>6</td>\n",
       "      <td>0</td>\n",
       "    </tr>\n",
       "    <tr>\n",
       "      <th>3</th>\n",
       "      <td>1.000000</td>\n",
       "      <td>60.000018</td>\n",
       "      <td>0.004849</td>\n",
       "      <td>1.000065</td>\n",
       "      <td>60.017569</td>\n",
       "      <td>4.743299</td>\n",
       "      <td>1.063813</td>\n",
       "      <td>76.195918</td>\n",
       "      <td>4110.590208</td>\n",
       "      <td>2.936177</td>\n",
       "      <td>...</td>\n",
       "      <td>0.000000</td>\n",
       "      <td>7.290294</td>\n",
       "      <td>60.000000</td>\n",
       "      <td>9.540000e-07</td>\n",
       "      <td>84.852814</td>\n",
       "      <td>1.290000e-12</td>\n",
       "      <td>8.690000e-30</td>\n",
       "      <td>9.560000e-18</td>\n",
       "      <td>7</td>\n",
       "      <td>0</td>\n",
       "    </tr>\n",
       "    <tr>\n",
       "      <th>4</th>\n",
       "      <td>100.707918</td>\n",
       "      <td>226.708372</td>\n",
       "      <td>54562.182272</td>\n",
       "      <td>155.736482</td>\n",
       "      <td>252.269792</td>\n",
       "      <td>58012.457557</td>\n",
       "      <td>446.854937</td>\n",
       "      <td>301.030305</td>\n",
       "      <td>60959.734097</td>\n",
       "      <td>4257.526218</td>\n",
       "      <td>...</td>\n",
       "      <td>0.000000</td>\n",
       "      <td>1.000000</td>\n",
       "      <td>554.000000</td>\n",
       "      <td>0.000000e+00</td>\n",
       "      <td>554.000000</td>\n",
       "      <td>0.000000e+00</td>\n",
       "      <td>0.000000e+00</td>\n",
       "      <td>0.000000e+00</td>\n",
       "      <td>5</td>\n",
       "      <td>9</td>\n",
       "    </tr>\n",
       "  </tbody>\n",
       "</table>\n",
       "<p>5 rows × 117 columns</p>\n",
       "</div>"
      ],
      "text/plain": [
       "   MI_dir_L5_weight  MI_dir_L5_mean  MI_dir_L5_variance  MI_dir_L3_weight  \\\n",
       "0         19.570634      152.679121        39991.937640         20.937891   \n",
       "1         49.893840      169.297843        54532.338720         62.957476   \n",
       "2          1.996527      449.011775          409.365474          2.002395   \n",
       "3          1.000000       60.000018            0.004849          1.000065   \n",
       "4        100.707918      226.708372        54562.182272        155.736482   \n",
       "\n",
       "   MI_dir_L3_mean  MI_dir_L3_variance  MI_dir_L1_weight  MI_dir_L1_mean  \\\n",
       "0      150.455024        38960.674060         23.168006      145.454142   \n",
       "1      169.735104        54283.995040         82.340884      168.919514   \n",
       "2      448.141152          739.076602          2.166552      419.128740   \n",
       "3       60.017569            4.743299          1.063813       76.195918   \n",
       "4      252.269792        58012.457557        446.854937      301.030305   \n",
       "\n",
       "   MI_dir_L1_variance  MI_dir_L0.1_weight  ...  HpHp_L0.1_pcc  \\\n",
       "0        36954.215040           33.115077  ...       0.468843   \n",
       "1        53449.819730           98.214224  ...       0.000000   \n",
       "2        11039.485060            4.621621  ...       0.000000   \n",
       "3         4110.590208            2.936177  ...       0.000000   \n",
       "4        60959.734097         4257.526218  ...       0.000000   \n",
       "\n",
       "   HpHp_L0.01_weight  HpHp_L0.01_mean  HpHp_L0.01_std  HpHp_L0.01_magnitude  \\\n",
       "0           4.999756       181.799689    2.276210e+02            290.439555   \n",
       "1           1.999960        69.999921    4.000000e+00            101.862598   \n",
       "2          14.978833       455.354366    1.959295e+01            455.354366   \n",
       "3           7.290294        60.000000    9.540000e-07             84.852814   \n",
       "4           1.000000       554.000000    0.000000e+00            554.000000   \n",
       "\n",
       "   HpHp_L0.01_radius  HpHp_L0.01_covariance  HpHp_L0.01_pcc  Source  Class  \n",
       "0       5.957202e+04           1.831480e+04    4.692557e-01       5      0  \n",
       "1       1.600000e+01           0.000000e+00    0.000000e+00       4      0  \n",
       "2       3.838837e+02           0.000000e+00    0.000000e+00       6      0  \n",
       "3       1.290000e-12           8.690000e-30    9.560000e-18       7      0  \n",
       "4       0.000000e+00           0.000000e+00    0.000000e+00       5      9  \n",
       "\n",
       "[5 rows x 117 columns]"
      ]
     },
     "execution_count": 13,
     "metadata": {},
     "output_type": "execute_result"
    }
   ],
   "source": [
    "df.head(5)"
   ]
  },
  {
   "cell_type": "markdown",
   "id": "fe891a02",
   "metadata": {},
   "source": [
    "## RandomForestClassifier"
   ]
  },
  {
   "cell_type": "code",
   "execution_count": 14,
   "id": "50c10a2f",
   "metadata": {},
   "outputs": [
    {
     "data": {
      "text/plain": [
       "0.9990888975660549"
      ]
     },
     "execution_count": 14,
     "metadata": {},
     "output_type": "execute_result"
    }
   ],
   "source": [
    "# Import algorithm\n",
    "# split in to x and y\n",
    "\n",
    "# create x label\n",
    "x = df.drop(['Class'], axis=1)\n",
    "\n",
    "# create y label\n",
    "y = df['Class']\n",
    "\n",
    "# split into train set and test set\n",
    "from sklearn.model_selection import train_test_split\n",
    "\n",
    "x_train, x_test, y_train, y_test = train_test_split(x, y, test_size = 0.3, random_state = 0)\n",
    "\n",
    "# import model\n",
    "from sklearn.ensemble import RandomForestClassifier\n",
    "clf = RandomForestClassifier(n_estimators=100, random_state=0)\n",
    "\n",
    "\n",
    "\n",
    "# fit the model to the training set\n",
    "\n",
    "clf.fit(x_train, y_train)\n",
    "\n",
    "# Predict on the test set results\n",
    "\n",
    "y_pred = clf.predict(x_test)\n",
    "np.mean(y_pred==y_test)\n"
   ]
  },
  {
   "cell_type": "code",
   "execution_count": 15,
   "id": "1be479a6",
   "metadata": {},
   "outputs": [
    {
     "data": {
      "text/plain": [
       "0.9997768604261966"
      ]
     },
     "execution_count": 15,
     "metadata": {},
     "output_type": "execute_result"
    }
   ],
   "source": [
    "clf.score(x_train,y_train)"
   ]
  },
  {
   "cell_type": "code",
   "execution_count": 16,
   "id": "1e2395bd",
   "metadata": {},
   "outputs": [
    {
     "data": {
      "text/plain": [
       "0.9990888975660549"
      ]
     },
     "execution_count": 16,
     "metadata": {},
     "output_type": "execute_result"
    }
   ],
   "source": [
    "clf.score(x_test,y_test)"
   ]
  },
  {
   "cell_type": "markdown",
   "id": "ee699d24",
   "metadata": {},
   "source": [
    "***Cross validation score***\n",
    "        \n",
    "        Model is trained on 5 different version of training data and evaluated on 5 different version of the test data."
   ]
  },
  {
   "cell_type": "code",
   "execution_count": 17,
   "id": "5668ec41",
   "metadata": {},
   "outputs": [
    {
     "name": "stdout",
     "output_type": "stream",
     "text": [
      "The cross-validated score is: 99.92%\n"
     ]
    }
   ],
   "source": [
    "from sklearn.model_selection import cross_val_score\n",
    "\n",
    "cv_acc=np.mean(cross_val_score(clf,x,y,cv=5))  \n",
    "print(f\"The cross-validated score is: {np.mean(cv_acc)*100:.2f}%\")"
   ]
  },
  {
   "cell_type": "markdown",
   "id": "6a81f14b",
   "metadata": {},
   "source": [
    "***Using Scoring metrics \"Accuracy\"***\n",
    "\n",
    "\n"
   ]
  },
  {
   "cell_type": "code",
   "execution_count": 18,
   "id": "f5d9e236",
   "metadata": {},
   "outputs": [
    {
     "name": "stdout",
     "output_type": "stream",
     "text": [
      "The cross-validated score accuracy is: 99.92%\n"
     ]
    }
   ],
   "source": [
    "\n",
    "from sklearn.model_selection import cross_val_score\n",
    "cv_acc_acc=np.mean(cross_val_score(clf,x,y,cv=5,scoring=\"accuracy\"))  \n",
    "print(f\"The cross-validated score accuracy is: {np.mean(cv_acc)*100:.2f}%\")"
   ]
  },
  {
   "cell_type": "markdown",
   "id": "b57689f8",
   "metadata": {},
   "source": [
    "***Using Scoring metrics \"precision\"***"
   ]
  },
  {
   "cell_type": "code",
   "execution_count": 19,
   "id": "76ccc23b",
   "metadata": {},
   "outputs": [
    {
     "name": "stdout",
     "output_type": "stream",
     "text": [
      "The cross-validated score precision is: 99.92%\n"
     ]
    }
   ],
   "source": [
    "from sklearn.model_selection import cross_val_score\n",
    "cv_acc_pre=np.mean(cross_val_score(clf,x,y,cv=5,scoring=\"precision\"))  \n",
    "print(f\"The cross-validated score precision is: {np.mean(cv_acc)*100:.2f}%\")"
   ]
  },
  {
   "cell_type": "markdown",
   "id": "d01663a7",
   "metadata": {},
   "source": [
    "***Using Scoring metrics \"recall\"***"
   ]
  },
  {
   "cell_type": "code",
   "execution_count": 20,
   "id": "7730e004",
   "metadata": {},
   "outputs": [
    {
     "name": "stdout",
     "output_type": "stream",
     "text": [
      "The cross-validated score recall is: 99.92%\n"
     ]
    }
   ],
   "source": [
    "from sklearn.model_selection import cross_val_score\n",
    "cv_acc_pre=np.mean(cross_val_score(clf,x,y,cv=5,scoring=\"recall\"))  \n",
    "print(f\"The cross-validated score recall is: {np.mean(cv_acc)*100:.2f}%\")"
   ]
  },
  {
   "cell_type": "markdown",
   "id": "747ca6cd",
   "metadata": {},
   "source": [
    "***Using Scoring metrics \"f1 score\"***"
   ]
  },
  {
   "cell_type": "code",
   "execution_count": 21,
   "id": "827213e5",
   "metadata": {},
   "outputs": [
    {
     "name": "stdout",
     "output_type": "stream",
     "text": [
      "The cross-validated score f1 is: 99.92%\n"
     ]
    }
   ],
   "source": [
    "from sklearn.model_selection import cross_val_score\n",
    "cv_acc_pre=np.mean(cross_val_score(clf,x,y,cv=5,scoring=\"f1\"))  \n",
    "print(f\"The cross-validated score f1 is: {np.mean(cv_acc)*100:.2f}%\")"
   ]
  },
  {
   "cell_type": "code",
   "execution_count": 22,
   "id": "a50f2cba",
   "metadata": {},
   "outputs": [
    {
     "data": {
      "text/plain": [
       "0.9990888975660549"
      ]
     },
     "execution_count": 22,
     "metadata": {},
     "output_type": "execute_result"
    }
   ],
   "source": [
    "# Accuracy classification score\n",
    "from sklearn.metrics import accuracy_score, classification_report\n",
    "accuracy_score(y_test,y_pred)"
   ]
  },
  {
   "cell_type": "code",
   "execution_count": 23,
   "id": "54dc7c84",
   "metadata": {},
   "outputs": [
    {
     "name": "stdout",
     "output_type": "stream",
     "text": [
      "Model accuracy score with selected features : 0.9991\n",
      "              precision    recall  f1-score   support\n",
      "\n",
      "           0       1.00      1.00      1.00      6637\n",
      "           1       0.20      1.00      0.33         1\n",
      "           2       1.00      0.97      0.98       117\n",
      "           3       1.00      1.00      1.00        60\n",
      "           4       0.98      1.00      0.99        62\n",
      "           5       1.00      0.99      1.00       143\n",
      "           6       0.97      0.97      0.97        35\n",
      "           7       1.00      1.00      1.00        27\n",
      "           8       1.00      1.00      1.00        33\n",
      "           9       1.00      1.00      1.00       566\n",
      "          10       0.67      1.00      0.80         2\n",
      "\n",
      "    accuracy                           1.00      7683\n",
      "   macro avg       0.89      0.99      0.92      7683\n",
      "weighted avg       1.00      1.00      1.00      7683\n",
      "\n"
     ]
    }
   ],
   "source": [
    "print('Model accuracy score with selected features : {0:0.4f}'. format(accuracy_score(y_test, y_pred)))\n",
    "print(classification_report(y_pred,y_test))"
   ]
  },
  {
   "cell_type": "markdown",
   "id": "d3e3f479",
   "metadata": {},
   "source": [
    "***Improving model predictions through experimentation (hyperparameter tuning)***"
   ]
  },
  {
   "cell_type": "code",
   "execution_count": 24,
   "id": "8ab359cc",
   "metadata": {},
   "outputs": [
    {
     "data": {
      "text/plain": [
       "{'bootstrap': True,\n",
       " 'ccp_alpha': 0.0,\n",
       " 'class_weight': None,\n",
       " 'criterion': 'gini',\n",
       " 'max_depth': None,\n",
       " 'max_features': 'sqrt',\n",
       " 'max_leaf_nodes': None,\n",
       " 'max_samples': None,\n",
       " 'min_impurity_decrease': 0.0,\n",
       " 'min_samples_leaf': 1,\n",
       " 'min_samples_split': 2,\n",
       " 'min_weight_fraction_leaf': 0.0,\n",
       " 'n_estimators': 100,\n",
       " 'n_jobs': None,\n",
       " 'oob_score': False,\n",
       " 'random_state': 0,\n",
       " 'verbose': 0,\n",
       " 'warm_start': False}"
      ]
     },
     "execution_count": 24,
     "metadata": {},
     "output_type": "execute_result"
    }
   ],
   "source": [
    "clf.get_params()"
   ]
  },
  {
   "cell_type": "markdown",
   "id": "b9cd98ea",
   "metadata": {},
   "source": [
    "***Scikit-Learn's RandomizedSearchCV allows us to randomly search across different hyperparameters to see which work best. It also stores details about the ones which work best!***\n",
    "        \n",
    "    3 different models on a small dataset.\n",
    "\n",
    "    A baseline RandomForestClassifier (all default parameters)\n",
    "    A RandomForestClassifier tuned with RandomizedSearchCV (and refit=True)\n",
    "    A RandomForestClassifier tuned with GridSearchCV (and refit=True)"
   ]
  },
  {
   "cell_type": "markdown",
   "id": "5e8066a1",
   "metadata": {},
   "source": [
    "***Make evaluation function***"
   ]
  },
  {
   "cell_type": "code",
   "execution_count": 25,
   "id": "4aa020b0",
   "metadata": {},
   "outputs": [],
   "source": [
    "def evaluate_pred(y_true, y_pred):\n",
    "    \"\"\"\n",
    "    Performs evaluation comparison on y_true labels vs. y_pred labels.\n",
    "    \"\"\"\n",
    "    accuracy = accuracy_score(y_true, y_pred)\n",
    "    precision = precision_score(y_true, y_pred,pos_label='positive',average='micro')\n",
    "    recall = recall_score(y_true, y_pred,pos_label='positive',average='micro')\n",
    "    f1 = f1_score(y_true, y_pred,pos_label='positive',average='micro')\n",
    "    metric_dict = {\"accuracy\": round(accuracy, 2),\n",
    "                   \"precision\": round(precision, 2), \n",
    "                   \"recall\": round(recall, 2),\n",
    "                   \"f1\": round(f1, 2)}\n",
    "    print(f\"Acc: {accuracy * 100:.2f}%\")\n",
    "    print(f\"Precision: {precision:.2f}\")\n",
    "    print(f\"Recall: {recall:.2f}\")\n",
    "    print(f\"F1 score: {f1:.2f}\")\n",
    "\n",
    "    return metric_dict\n",
    "\n"
   ]
  },
  {
   "cell_type": "markdown",
   "id": "6e255ee9",
   "metadata": {},
   "source": [
    "***A baseline RandomForestClassifier***"
   ]
  },
  {
   "cell_type": "code",
   "execution_count": 26,
   "id": "6f654234",
   "metadata": {},
   "outputs": [
    {
     "name": "stdout",
     "output_type": "stream",
     "text": [
      "Acc: 99.90%\n",
      "Precision: 1.00\n",
      "Recall: 1.00\n",
      "F1 score: 1.00\n"
     ]
    },
    {
     "data": {
      "text/plain": [
       "{'accuracy': 1.0, 'precision': 1.0, 'recall': 1.0, 'f1': 1.0}"
      ]
     },
     "execution_count": 26,
     "metadata": {},
     "output_type": "execute_result"
    }
   ],
   "source": [
    "from sklearn.metrics import accuracy_score, precision_score, recall_score, f1_score\n",
    "from sklearn.ensemble import RandomForestClassifier\n",
    "\n",
    "np.random.seed(42)\n",
    "\n",
    "# Shuffle the data\n",
    "df = df.sample(frac=1)\n",
    "\n",
    "# Split into X & y\n",
    "x = df.drop(\"Class\", axis=1)\n",
    "y = df[\"Class\"]\n",
    "\n",
    "# Split the data into train, validation & test sets\n",
    "train_split = round(0.7 * len(df)) # 70% of data\n",
    "valid_split = round(train_split + 0.15 * len(df)) # 15% of data\n",
    "x_train, y_train = x[:train_split], y[:train_split]\n",
    "x_valid, y_valid = x[train_split:valid_split], y[train_split:valid_split]\n",
    "x_test, y_test = x[valid_split:], y[valid_split:]\n",
    "\n",
    "clf = RandomForestClassifier()\n",
    "clf.fit(x_train, y_train)\n",
    "\n",
    "# Make predictions\n",
    "y_pred = clf.predict(x_valid)\n",
    "\n",
    "# Evaluate the classifier\n",
    "baseline_metrics = evaluate_pred(y_valid, y_pred)\n",
    "baseline_metrics"
   ]
  },
  {
   "cell_type": "markdown",
   "id": "5bd00de3",
   "metadata": {},
   "source": [
    "***RandomizedSearchCV***"
   ]
  },
  {
   "cell_type": "code",
   "execution_count": 27,
   "id": "bd3832d0",
   "metadata": {},
   "outputs": [
    {
     "name": "stdout",
     "output_type": "stream",
     "text": [
      "Fitting 5 folds for each of 10 candidates, totalling 50 fits\n",
      "[CV] END max_depth=10, max_features=auto, min_samples_leaf=1, min_samples_split=6, n_estimators=100; total time=  10.0s\n",
      "[CV] END max_depth=10, max_features=auto, min_samples_leaf=1, min_samples_split=6, n_estimators=100; total time=  10.3s\n",
      "[CV] END max_depth=10, max_features=auto, min_samples_leaf=1, min_samples_split=6, n_estimators=100; total time=   9.2s\n",
      "[CV] END max_depth=10, max_features=auto, min_samples_leaf=1, min_samples_split=6, n_estimators=100; total time=  11.9s\n",
      "[CV] END max_depth=10, max_features=auto, min_samples_leaf=1, min_samples_split=6, n_estimators=100; total time=  10.1s\n",
      "[CV] END max_depth=None, max_features=sqrt, min_samples_leaf=2, min_samples_split=2, n_estimators=100; total time=  12.2s\n",
      "[CV] END max_depth=None, max_features=sqrt, min_samples_leaf=2, min_samples_split=2, n_estimators=100; total time=   8.9s\n",
      "[CV] END max_depth=None, max_features=sqrt, min_samples_leaf=2, min_samples_split=2, n_estimators=100; total time=  11.7s\n",
      "[CV] END max_depth=None, max_features=sqrt, min_samples_leaf=2, min_samples_split=2, n_estimators=100; total time=  10.6s\n",
      "[CV] END max_depth=None, max_features=sqrt, min_samples_leaf=2, min_samples_split=2, n_estimators=100; total time=  10.4s\n",
      "[CV] END max_depth=30, max_features=sqrt, min_samples_leaf=2, min_samples_split=6, n_estimators=1200; total time= 2.2min\n",
      "[CV] END max_depth=30, max_features=sqrt, min_samples_leaf=2, min_samples_split=6, n_estimators=1200; total time= 2.2min\n",
      "[CV] END max_depth=30, max_features=sqrt, min_samples_leaf=2, min_samples_split=6, n_estimators=1200; total time= 2.2min\n",
      "[CV] END max_depth=30, max_features=sqrt, min_samples_leaf=2, min_samples_split=6, n_estimators=1200; total time= 2.1min\n",
      "[CV] END max_depth=30, max_features=sqrt, min_samples_leaf=2, min_samples_split=6, n_estimators=1200; total time= 2.2min\n",
      "[CV] END max_depth=None, max_features=sqrt, min_samples_leaf=2, min_samples_split=6, n_estimators=200; total time=  22.6s\n",
      "[CV] END max_depth=None, max_features=sqrt, min_samples_leaf=2, min_samples_split=6, n_estimators=200; total time=  20.5s\n",
      "[CV] END max_depth=None, max_features=sqrt, min_samples_leaf=2, min_samples_split=6, n_estimators=200; total time=  22.7s\n",
      "[CV] END max_depth=None, max_features=sqrt, min_samples_leaf=2, min_samples_split=6, n_estimators=200; total time=  20.8s\n",
      "[CV] END max_depth=None, max_features=sqrt, min_samples_leaf=2, min_samples_split=6, n_estimators=200; total time=  20.3s\n",
      "[CV] END max_depth=30, max_features=auto, min_samples_leaf=4, min_samples_split=2, n_estimators=100; total time=   9.4s\n",
      "[CV] END max_depth=30, max_features=auto, min_samples_leaf=4, min_samples_split=2, n_estimators=100; total time=   8.8s\n",
      "[CV] END max_depth=30, max_features=auto, min_samples_leaf=4, min_samples_split=2, n_estimators=100; total time=  10.2s\n",
      "[CV] END max_depth=30, max_features=auto, min_samples_leaf=4, min_samples_split=2, n_estimators=100; total time=   9.3s\n",
      "[CV] END max_depth=30, max_features=auto, min_samples_leaf=4, min_samples_split=2, n_estimators=100; total time=  10.1s\n",
      "[CV] END max_depth=None, max_features=sqrt, min_samples_leaf=2, min_samples_split=2, n_estimators=1200; total time= 2.1min\n",
      "[CV] END max_depth=None, max_features=sqrt, min_samples_leaf=2, min_samples_split=2, n_estimators=1200; total time= 2.0min\n",
      "[CV] END max_depth=None, max_features=sqrt, min_samples_leaf=2, min_samples_split=2, n_estimators=1200; total time= 2.2min\n",
      "[CV] END max_depth=None, max_features=sqrt, min_samples_leaf=2, min_samples_split=2, n_estimators=1200; total time= 2.0min\n",
      "[CV] END max_depth=None, max_features=sqrt, min_samples_leaf=2, min_samples_split=2, n_estimators=1200; total time= 2.0min\n",
      "[CV] END max_depth=10, max_features=sqrt, min_samples_leaf=2, min_samples_split=4, n_estimators=500; total time=  58.0s\n",
      "[CV] END max_depth=10, max_features=sqrt, min_samples_leaf=2, min_samples_split=4, n_estimators=500; total time=  54.5s\n",
      "[CV] END max_depth=10, max_features=sqrt, min_samples_leaf=2, min_samples_split=4, n_estimators=500; total time=  55.3s\n",
      "[CV] END max_depth=10, max_features=sqrt, min_samples_leaf=2, min_samples_split=4, n_estimators=500; total time= 1.0min\n",
      "[CV] END max_depth=10, max_features=sqrt, min_samples_leaf=2, min_samples_split=4, n_estimators=500; total time=  55.2s\n",
      "[CV] END max_depth=20, max_features=sqrt, min_samples_leaf=4, min_samples_split=2, n_estimators=1000; total time= 1.6min\n",
      "[CV] END max_depth=20, max_features=sqrt, min_samples_leaf=4, min_samples_split=2, n_estimators=1000; total time= 1.9min\n",
      "[CV] END max_depth=20, max_features=sqrt, min_samples_leaf=4, min_samples_split=2, n_estimators=1000; total time= 1.9min\n",
      "[CV] END max_depth=20, max_features=sqrt, min_samples_leaf=4, min_samples_split=2, n_estimators=1000; total time= 1.9min\n",
      "[CV] END max_depth=20, max_features=sqrt, min_samples_leaf=4, min_samples_split=2, n_estimators=1000; total time= 1.8min\n",
      "[CV] END max_depth=20, max_features=auto, min_samples_leaf=2, min_samples_split=2, n_estimators=10; total time=   1.0s\n",
      "[CV] END max_depth=20, max_features=auto, min_samples_leaf=2, min_samples_split=2, n_estimators=10; total time=   0.7s\n",
      "[CV] END max_depth=20, max_features=auto, min_samples_leaf=2, min_samples_split=2, n_estimators=10; total time=   1.0s\n",
      "[CV] END max_depth=20, max_features=auto, min_samples_leaf=2, min_samples_split=2, n_estimators=10; total time=   0.7s\n",
      "[CV] END max_depth=20, max_features=auto, min_samples_leaf=2, min_samples_split=2, n_estimators=10; total time=   1.1s\n",
      "[CV] END max_depth=20, max_features=sqrt, min_samples_leaf=1, min_samples_split=2, n_estimators=1200; total time= 2.1min\n",
      "[CV] END max_depth=20, max_features=sqrt, min_samples_leaf=1, min_samples_split=2, n_estimators=1200; total time= 2.1min\n",
      "[CV] END max_depth=20, max_features=sqrt, min_samples_leaf=1, min_samples_split=2, n_estimators=1200; total time= 2.1min\n",
      "[CV] END max_depth=20, max_features=sqrt, min_samples_leaf=1, min_samples_split=2, n_estimators=1200; total time= 2.1min\n",
      "[CV] END max_depth=20, max_features=sqrt, min_samples_leaf=1, min_samples_split=2, n_estimators=1200; total time= 2.1min\n"
     ]
    },
    {
     "data": {
      "text/html": [
       "<style>#sk-container-id-1 {color: black;background-color: white;}#sk-container-id-1 pre{padding: 0;}#sk-container-id-1 div.sk-toggleable {background-color: white;}#sk-container-id-1 label.sk-toggleable__label {cursor: pointer;display: block;width: 100%;margin-bottom: 0;padding: 0.3em;box-sizing: border-box;text-align: center;}#sk-container-id-1 label.sk-toggleable__label-arrow:before {content: \"▸\";float: left;margin-right: 0.25em;color: #696969;}#sk-container-id-1 label.sk-toggleable__label-arrow:hover:before {color: black;}#sk-container-id-1 div.sk-estimator:hover label.sk-toggleable__label-arrow:before {color: black;}#sk-container-id-1 div.sk-toggleable__content {max-height: 0;max-width: 0;overflow: hidden;text-align: left;background-color: #f0f8ff;}#sk-container-id-1 div.sk-toggleable__content pre {margin: 0.2em;color: black;border-radius: 0.25em;background-color: #f0f8ff;}#sk-container-id-1 input.sk-toggleable__control:checked~div.sk-toggleable__content {max-height: 200px;max-width: 100%;overflow: auto;}#sk-container-id-1 input.sk-toggleable__control:checked~label.sk-toggleable__label-arrow:before {content: \"▾\";}#sk-container-id-1 div.sk-estimator input.sk-toggleable__control:checked~label.sk-toggleable__label {background-color: #d4ebff;}#sk-container-id-1 div.sk-label input.sk-toggleable__control:checked~label.sk-toggleable__label {background-color: #d4ebff;}#sk-container-id-1 input.sk-hidden--visually {border: 0;clip: rect(1px 1px 1px 1px);clip: rect(1px, 1px, 1px, 1px);height: 1px;margin: -1px;overflow: hidden;padding: 0;position: absolute;width: 1px;}#sk-container-id-1 div.sk-estimator {font-family: monospace;background-color: #f0f8ff;border: 1px dotted black;border-radius: 0.25em;box-sizing: border-box;margin-bottom: 0.5em;}#sk-container-id-1 div.sk-estimator:hover {background-color: #d4ebff;}#sk-container-id-1 div.sk-parallel-item::after {content: \"\";width: 100%;border-bottom: 1px solid gray;flex-grow: 1;}#sk-container-id-1 div.sk-label:hover label.sk-toggleable__label {background-color: #d4ebff;}#sk-container-id-1 div.sk-serial::before {content: \"\";position: absolute;border-left: 1px solid gray;box-sizing: border-box;top: 0;bottom: 0;left: 50%;z-index: 0;}#sk-container-id-1 div.sk-serial {display: flex;flex-direction: column;align-items: center;background-color: white;padding-right: 0.2em;padding-left: 0.2em;position: relative;}#sk-container-id-1 div.sk-item {position: relative;z-index: 1;}#sk-container-id-1 div.sk-parallel {display: flex;align-items: stretch;justify-content: center;background-color: white;position: relative;}#sk-container-id-1 div.sk-item::before, #sk-container-id-1 div.sk-parallel-item::before {content: \"\";position: absolute;border-left: 1px solid gray;box-sizing: border-box;top: 0;bottom: 0;left: 50%;z-index: -1;}#sk-container-id-1 div.sk-parallel-item {display: flex;flex-direction: column;z-index: 1;position: relative;background-color: white;}#sk-container-id-1 div.sk-parallel-item:first-child::after {align-self: flex-end;width: 50%;}#sk-container-id-1 div.sk-parallel-item:last-child::after {align-self: flex-start;width: 50%;}#sk-container-id-1 div.sk-parallel-item:only-child::after {width: 0;}#sk-container-id-1 div.sk-dashed-wrapped {border: 1px dashed gray;margin: 0 0.4em 0.5em 0.4em;box-sizing: border-box;padding-bottom: 0.4em;background-color: white;}#sk-container-id-1 div.sk-label label {font-family: monospace;font-weight: bold;display: inline-block;line-height: 1.2em;}#sk-container-id-1 div.sk-label-container {text-align: center;}#sk-container-id-1 div.sk-container {/* jupyter's `normalize.less` sets `[hidden] { display: none; }` but bootstrap.min.css set `[hidden] { display: none !important; }` so we also need the `!important` here to be able to override the default hidden behavior on the sphinx rendered scikit-learn.org. See: https://github.com/scikit-learn/scikit-learn/issues/21755 */display: inline-block !important;position: relative;}#sk-container-id-1 div.sk-text-repr-fallback {display: none;}</style><div id=\"sk-container-id-1\" class=\"sk-top-container\"><div class=\"sk-text-repr-fallback\"><pre>RandomizedSearchCV(cv=5, estimator=RandomForestClassifier(n_jobs=1),\n",
       "                   param_distributions={&#x27;max_depth&#x27;: [None, 5, 10, 20, 30],\n",
       "                                        &#x27;max_features&#x27;: [&#x27;auto&#x27;, &#x27;sqrt&#x27;],\n",
       "                                        &#x27;min_samples_leaf&#x27;: [1, 2, 4],\n",
       "                                        &#x27;min_samples_split&#x27;: [2, 4, 6],\n",
       "                                        &#x27;n_estimators&#x27;: [10, 100, 200, 500,\n",
       "                                                         1000, 1200]},\n",
       "                   random_state=42, verbose=2)</pre><b>In a Jupyter environment, please rerun this cell to show the HTML representation or trust the notebook. <br />On GitHub, the HTML representation is unable to render, please try loading this page with nbviewer.org.</b></div><div class=\"sk-container\" hidden><div class=\"sk-item sk-dashed-wrapped\"><div class=\"sk-label-container\"><div class=\"sk-label sk-toggleable\"><input class=\"sk-toggleable__control sk-hidden--visually\" id=\"sk-estimator-id-1\" type=\"checkbox\" ><label for=\"sk-estimator-id-1\" class=\"sk-toggleable__label sk-toggleable__label-arrow\">RandomizedSearchCV</label><div class=\"sk-toggleable__content\"><pre>RandomizedSearchCV(cv=5, estimator=RandomForestClassifier(n_jobs=1),\n",
       "                   param_distributions={&#x27;max_depth&#x27;: [None, 5, 10, 20, 30],\n",
       "                                        &#x27;max_features&#x27;: [&#x27;auto&#x27;, &#x27;sqrt&#x27;],\n",
       "                                        &#x27;min_samples_leaf&#x27;: [1, 2, 4],\n",
       "                                        &#x27;min_samples_split&#x27;: [2, 4, 6],\n",
       "                                        &#x27;n_estimators&#x27;: [10, 100, 200, 500,\n",
       "                                                         1000, 1200]},\n",
       "                   random_state=42, verbose=2)</pre></div></div></div><div class=\"sk-parallel\"><div class=\"sk-parallel-item\"><div class=\"sk-item\"><div class=\"sk-label-container\"><div class=\"sk-label sk-toggleable\"><input class=\"sk-toggleable__control sk-hidden--visually\" id=\"sk-estimator-id-2\" type=\"checkbox\" ><label for=\"sk-estimator-id-2\" class=\"sk-toggleable__label sk-toggleable__label-arrow\">estimator: RandomForestClassifier</label><div class=\"sk-toggleable__content\"><pre>RandomForestClassifier(n_jobs=1)</pre></div></div></div><div class=\"sk-serial\"><div class=\"sk-item\"><div class=\"sk-estimator sk-toggleable\"><input class=\"sk-toggleable__control sk-hidden--visually\" id=\"sk-estimator-id-3\" type=\"checkbox\" ><label for=\"sk-estimator-id-3\" class=\"sk-toggleable__label sk-toggleable__label-arrow\">RandomForestClassifier</label><div class=\"sk-toggleable__content\"><pre>RandomForestClassifier(n_jobs=1)</pre></div></div></div></div></div></div></div></div></div></div>"
      ],
      "text/plain": [
       "RandomizedSearchCV(cv=5, estimator=RandomForestClassifier(n_jobs=1),\n",
       "                   param_distributions={'max_depth': [None, 5, 10, 20, 30],\n",
       "                                        'max_features': ['auto', 'sqrt'],\n",
       "                                        'min_samples_leaf': [1, 2, 4],\n",
       "                                        'min_samples_split': [2, 4, 6],\n",
       "                                        'n_estimators': [10, 100, 200, 500,\n",
       "                                                         1000, 1200]},\n",
       "                   random_state=42, verbose=2)"
      ]
     },
     "execution_count": 27,
     "metadata": {},
     "output_type": "execute_result"
    }
   ],
   "source": [
    "from sklearn.model_selection import RandomizedSearchCV\n",
    "\n",
    "# Setup the parameters grid\n",
    "grid = {\"n_estimators\": [10, 100, 200, 500, 1000, 1200],\n",
    "        \"max_depth\": [None, 5, 10, 20, 30],\n",
    "        \"max_features\": [\"auto\", \"sqrt\"],\n",
    "        \"min_samples_split\": [2, 4, 6],\n",
    "        \"min_samples_leaf\": [1, 2, 4]}\n",
    "\n",
    "# Instantiate RandomForestClassifier\n",
    "clf = RandomForestClassifier(n_jobs=1)\n",
    "\n",
    "# Setup RandomizedSearchCV\n",
    "rs_clf = RandomizedSearchCV(estimator=clf,\n",
    "                            param_distributions=grid, \n",
    "                            n_iter=10, # number of models to try\n",
    "                            cv=5,\n",
    "                            verbose=2,\n",
    "                            random_state=42, # set random_state to 42 for reproducibility\n",
    "                            refit=True) # set refit=True (default) to refit the best model on the full dataset \n",
    "\n",
    "# Fit the RandomizedSearchCV version of clf\n",
    "rs_clf.fit(x_train, y_train) # 'rs' is short for RandomizedSearch"
   ]
  },
  {
   "cell_type": "code",
   "execution_count": 28,
   "id": "c5379188",
   "metadata": {},
   "outputs": [
    {
     "name": "stdout",
     "output_type": "stream",
     "text": [
      "Acc: 99.92%\n",
      "Precision: 1.00\n",
      "Recall: 1.00\n",
      "F1 score: 1.00\n"
     ]
    }
   ],
   "source": [
    "np.random.seed(42)\n",
    "\n",
    "# Make & fit baseline model\n",
    "clf = RandomForestClassifier()\n",
    "clf.fit(x_train, y_train)\n",
    "\n",
    "# Make baseline predictions\n",
    "y_preds = clf.predict(x_test)\n",
    "\n",
    "# Evaluate the classifier on validation set\n",
    "baseline_metrics = evaluate_pred(y_test, y_preds)\n"
   ]
  },
  {
   "cell_type": "code",
   "execution_count": 29,
   "id": "f8e1c1fb",
   "metadata": {},
   "outputs": [
    {
     "data": {
      "text/plain": [
       "{'n_estimators': 1200,\n",
       " 'min_samples_split': 2,\n",
       " 'min_samples_leaf': 1,\n",
       " 'max_features': 'sqrt',\n",
       " 'max_depth': 20}"
      ]
     },
     "execution_count": 29,
     "metadata": {},
     "output_type": "execute_result"
    }
   ],
   "source": [
    "# Check best parameters of RandomizedSearchCV\n",
    "rs_clf.best_params_"
   ]
  },
  {
   "cell_type": "code",
   "execution_count": 30,
   "id": "35aab22d",
   "metadata": {},
   "outputs": [
    {
     "name": "stdout",
     "output_type": "stream",
     "text": [
      "Acc: 99.92%\n",
      "Precision: 1.00\n",
      "Recall: 1.00\n",
      "F1 score: 1.00\n"
     ]
    }
   ],
   "source": [
    "# Evaluate RandomizedSearch model\n",
    "rs_y_preds = rs_clf.predict(x_test)\n",
    "\n",
    "# Evaluate the classifier on validation set\n",
    "rs_metrics = evaluate_pred(y_test, rs_y_preds)"
   ]
  },
  {
   "cell_type": "markdown",
   "id": "d98c3b55",
   "metadata": {},
   "source": [
    "***GridSearchCV***"
   ]
  },
  {
   "cell_type": "code",
   "execution_count": 31,
   "id": "3904017c",
   "metadata": {},
   "outputs": [
    {
     "name": "stdout",
     "output_type": "stream",
     "text": [
      "Fitting 5 folds for each of 36 candidates, totalling 180 fits\n",
      "[CV] END max_depth=30, max_features=auto, min_samples_leaf=1, min_samples_split=2, n_estimators=50; total time=   4.4s\n",
      "[CV] END max_depth=30, max_features=auto, min_samples_leaf=1, min_samples_split=2, n_estimators=50; total time=   4.2s\n",
      "[CV] END max_depth=30, max_features=auto, min_samples_leaf=1, min_samples_split=2, n_estimators=50; total time=   4.5s\n",
      "[CV] END max_depth=30, max_features=auto, min_samples_leaf=1, min_samples_split=2, n_estimators=50; total time=   5.1s\n",
      "[CV] END max_depth=30, max_features=auto, min_samples_leaf=1, min_samples_split=2, n_estimators=50; total time=   5.8s\n",
      "[CV] END max_depth=30, max_features=auto, min_samples_leaf=1, min_samples_split=2, n_estimators=100; total time=  11.6s\n",
      "[CV] END max_depth=30, max_features=auto, min_samples_leaf=1, min_samples_split=2, n_estimators=100; total time=  12.4s\n",
      "[CV] END max_depth=30, max_features=auto, min_samples_leaf=1, min_samples_split=2, n_estimators=100; total time=  14.1s\n",
      "[CV] END max_depth=30, max_features=auto, min_samples_leaf=1, min_samples_split=2, n_estimators=100; total time=  13.6s\n",
      "[CV] END max_depth=30, max_features=auto, min_samples_leaf=1, min_samples_split=2, n_estimators=100; total time=  14.4s\n",
      "[CV] END max_depth=30, max_features=auto, min_samples_leaf=1, min_samples_split=2, n_estimators=150; total time=  19.8s\n",
      "[CV] END max_depth=30, max_features=auto, min_samples_leaf=1, min_samples_split=2, n_estimators=150; total time=  20.0s\n",
      "[CV] END max_depth=30, max_features=auto, min_samples_leaf=1, min_samples_split=2, n_estimators=150; total time=  17.3s\n",
      "[CV] END max_depth=30, max_features=auto, min_samples_leaf=1, min_samples_split=2, n_estimators=150; total time=  18.5s\n",
      "[CV] END max_depth=30, max_features=auto, min_samples_leaf=1, min_samples_split=2, n_estimators=150; total time=  14.6s\n",
      "[CV] END max_depth=30, max_features=auto, min_samples_leaf=2, min_samples_split=2, n_estimators=50; total time=   5.7s\n",
      "[CV] END max_depth=30, max_features=auto, min_samples_leaf=2, min_samples_split=2, n_estimators=50; total time=   4.6s\n",
      "[CV] END max_depth=30, max_features=auto, min_samples_leaf=2, min_samples_split=2, n_estimators=50; total time=   4.5s\n",
      "[CV] END max_depth=30, max_features=auto, min_samples_leaf=2, min_samples_split=2, n_estimators=50; total time=   5.0s\n",
      "[CV] END max_depth=30, max_features=auto, min_samples_leaf=2, min_samples_split=2, n_estimators=50; total time=   4.6s\n",
      "[CV] END max_depth=30, max_features=auto, min_samples_leaf=2, min_samples_split=2, n_estimators=100; total time=   9.6s\n",
      "[CV] END max_depth=30, max_features=auto, min_samples_leaf=2, min_samples_split=2, n_estimators=100; total time=  10.8s\n",
      "[CV] END max_depth=30, max_features=auto, min_samples_leaf=2, min_samples_split=2, n_estimators=100; total time=  10.2s\n",
      "[CV] END max_depth=30, max_features=auto, min_samples_leaf=2, min_samples_split=2, n_estimators=100; total time=   9.5s\n",
      "[CV] END max_depth=30, max_features=auto, min_samples_leaf=2, min_samples_split=2, n_estimators=100; total time=  10.0s\n",
      "[CV] END max_depth=30, max_features=auto, min_samples_leaf=2, min_samples_split=2, n_estimators=150; total time=  14.1s\n",
      "[CV] END max_depth=30, max_features=auto, min_samples_leaf=2, min_samples_split=2, n_estimators=150; total time=  15.6s\n",
      "[CV] END max_depth=30, max_features=auto, min_samples_leaf=2, min_samples_split=2, n_estimators=150; total time=  14.2s\n",
      "[CV] END max_depth=30, max_features=auto, min_samples_leaf=2, min_samples_split=2, n_estimators=150; total time=  15.0s\n",
      "[CV] END max_depth=30, max_features=auto, min_samples_leaf=2, min_samples_split=2, n_estimators=150; total time=  17.5s\n",
      "[CV] END max_depth=30, max_features=auto, min_samples_leaf=4, min_samples_split=2, n_estimators=50; total time=   6.3s\n",
      "[CV] END max_depth=30, max_features=auto, min_samples_leaf=4, min_samples_split=2, n_estimators=50; total time=   4.5s\n",
      "[CV] END max_depth=30, max_features=auto, min_samples_leaf=4, min_samples_split=2, n_estimators=50; total time=   4.8s\n",
      "[CV] END max_depth=30, max_features=auto, min_samples_leaf=4, min_samples_split=2, n_estimators=50; total time=   4.8s\n",
      "[CV] END max_depth=30, max_features=auto, min_samples_leaf=4, min_samples_split=2, n_estimators=50; total time=   5.1s\n",
      "[CV] END max_depth=30, max_features=auto, min_samples_leaf=4, min_samples_split=2, n_estimators=100; total time=   9.7s\n",
      "[CV] END max_depth=30, max_features=auto, min_samples_leaf=4, min_samples_split=2, n_estimators=100; total time=   9.9s\n",
      "[CV] END max_depth=30, max_features=auto, min_samples_leaf=4, min_samples_split=2, n_estimators=100; total time=   9.3s\n",
      "[CV] END max_depth=30, max_features=auto, min_samples_leaf=4, min_samples_split=2, n_estimators=100; total time=  10.9s\n",
      "[CV] END max_depth=30, max_features=auto, min_samples_leaf=4, min_samples_split=2, n_estimators=100; total time=  13.6s\n",
      "[CV] END max_depth=30, max_features=auto, min_samples_leaf=4, min_samples_split=2, n_estimators=150; total time=  17.8s\n",
      "[CV] END max_depth=30, max_features=auto, min_samples_leaf=4, min_samples_split=2, n_estimators=150; total time=  16.2s\n",
      "[CV] END max_depth=30, max_features=auto, min_samples_leaf=4, min_samples_split=2, n_estimators=150; total time=  14.7s\n",
      "[CV] END max_depth=30, max_features=auto, min_samples_leaf=4, min_samples_split=2, n_estimators=150; total time=  16.3s\n",
      "[CV] END max_depth=30, max_features=auto, min_samples_leaf=4, min_samples_split=2, n_estimators=150; total time=  15.1s\n",
      "[CV] END max_depth=30, max_features=sqrt, min_samples_leaf=1, min_samples_split=2, n_estimators=50; total time=   5.1s\n",
      "[CV] END max_depth=30, max_features=sqrt, min_samples_leaf=1, min_samples_split=2, n_estimators=50; total time=   5.2s\n",
      "[CV] END max_depth=30, max_features=sqrt, min_samples_leaf=1, min_samples_split=2, n_estimators=50; total time=   5.5s\n",
      "[CV] END max_depth=30, max_features=sqrt, min_samples_leaf=1, min_samples_split=2, n_estimators=50; total time=   5.6s\n",
      "[CV] END max_depth=30, max_features=sqrt, min_samples_leaf=1, min_samples_split=2, n_estimators=50; total time=   4.9s\n",
      "[CV] END max_depth=30, max_features=sqrt, min_samples_leaf=1, min_samples_split=2, n_estimators=100; total time=   9.4s\n",
      "[CV] END max_depth=30, max_features=sqrt, min_samples_leaf=1, min_samples_split=2, n_estimators=100; total time=   9.4s\n",
      "[CV] END max_depth=30, max_features=sqrt, min_samples_leaf=1, min_samples_split=2, n_estimators=100; total time=   9.9s\n",
      "[CV] END max_depth=30, max_features=sqrt, min_samples_leaf=1, min_samples_split=2, n_estimators=100; total time=  10.8s\n",
      "[CV] END max_depth=30, max_features=sqrt, min_samples_leaf=1, min_samples_split=2, n_estimators=100; total time=  11.3s\n",
      "[CV] END max_depth=30, max_features=sqrt, min_samples_leaf=1, min_samples_split=2, n_estimators=150; total time=  15.4s\n",
      "[CV] END max_depth=30, max_features=sqrt, min_samples_leaf=1, min_samples_split=2, n_estimators=150; total time=  15.4s\n",
      "[CV] END max_depth=30, max_features=sqrt, min_samples_leaf=1, min_samples_split=2, n_estimators=150; total time=  14.3s\n",
      "[CV] END max_depth=30, max_features=sqrt, min_samples_leaf=1, min_samples_split=2, n_estimators=150; total time=  16.0s\n",
      "[CV] END max_depth=30, max_features=sqrt, min_samples_leaf=1, min_samples_split=2, n_estimators=150; total time=  15.6s\n",
      "[CV] END max_depth=30, max_features=sqrt, min_samples_leaf=2, min_samples_split=2, n_estimators=50; total time=   5.4s\n",
      "[CV] END max_depth=30, max_features=sqrt, min_samples_leaf=2, min_samples_split=2, n_estimators=50; total time=   5.6s\n",
      "[CV] END max_depth=30, max_features=sqrt, min_samples_leaf=2, min_samples_split=2, n_estimators=50; total time=   5.1s\n",
      "[CV] END max_depth=30, max_features=sqrt, min_samples_leaf=2, min_samples_split=2, n_estimators=50; total time=   7.3s\n",
      "[CV] END max_depth=30, max_features=sqrt, min_samples_leaf=2, min_samples_split=2, n_estimators=50; total time=   4.9s\n",
      "[CV] END max_depth=30, max_features=sqrt, min_samples_leaf=2, min_samples_split=2, n_estimators=100; total time=  10.6s\n",
      "[CV] END max_depth=30, max_features=sqrt, min_samples_leaf=2, min_samples_split=2, n_estimators=100; total time=  10.0s\n",
      "[CV] END max_depth=30, max_features=sqrt, min_samples_leaf=2, min_samples_split=2, n_estimators=100; total time=  10.5s\n",
      "[CV] END max_depth=30, max_features=sqrt, min_samples_leaf=2, min_samples_split=2, n_estimators=100; total time=  11.5s\n",
      "[CV] END max_depth=30, max_features=sqrt, min_samples_leaf=2, min_samples_split=2, n_estimators=100; total time=  10.0s\n",
      "[CV] END max_depth=30, max_features=sqrt, min_samples_leaf=2, min_samples_split=2, n_estimators=150; total time=  13.6s\n",
      "[CV] END max_depth=30, max_features=sqrt, min_samples_leaf=2, min_samples_split=2, n_estimators=150; total time=  15.0s\n",
      "[CV] END max_depth=30, max_features=sqrt, min_samples_leaf=2, min_samples_split=2, n_estimators=150; total time=  14.6s\n",
      "[CV] END max_depth=30, max_features=sqrt, min_samples_leaf=2, min_samples_split=2, n_estimators=150; total time=  16.3s\n",
      "[CV] END max_depth=30, max_features=sqrt, min_samples_leaf=2, min_samples_split=2, n_estimators=150; total time=  17.1s\n",
      "[CV] END max_depth=30, max_features=sqrt, min_samples_leaf=4, min_samples_split=2, n_estimators=50; total time=   5.1s\n",
      "[CV] END max_depth=30, max_features=sqrt, min_samples_leaf=4, min_samples_split=2, n_estimators=50; total time=   4.6s\n",
      "[CV] END max_depth=30, max_features=sqrt, min_samples_leaf=4, min_samples_split=2, n_estimators=50; total time=   5.5s\n",
      "[CV] END max_depth=30, max_features=sqrt, min_samples_leaf=4, min_samples_split=2, n_estimators=50; total time=   5.0s\n",
      "[CV] END max_depth=30, max_features=sqrt, min_samples_leaf=4, min_samples_split=2, n_estimators=50; total time=   5.3s\n",
      "[CV] END max_depth=30, max_features=sqrt, min_samples_leaf=4, min_samples_split=2, n_estimators=100; total time=  10.3s\n",
      "[CV] END max_depth=30, max_features=sqrt, min_samples_leaf=4, min_samples_split=2, n_estimators=100; total time=  11.1s\n",
      "[CV] END max_depth=30, max_features=sqrt, min_samples_leaf=4, min_samples_split=2, n_estimators=100; total time=  10.1s\n",
      "[CV] END max_depth=30, max_features=sqrt, min_samples_leaf=4, min_samples_split=2, n_estimators=100; total time=   9.4s\n",
      "[CV] END max_depth=30, max_features=sqrt, min_samples_leaf=4, min_samples_split=2, n_estimators=100; total time=   9.8s\n",
      "[CV] END max_depth=30, max_features=sqrt, min_samples_leaf=4, min_samples_split=2, n_estimators=150; total time=  14.7s\n",
      "[CV] END max_depth=30, max_features=sqrt, min_samples_leaf=4, min_samples_split=2, n_estimators=150; total time=  16.2s\n",
      "[CV] END max_depth=30, max_features=sqrt, min_samples_leaf=4, min_samples_split=2, n_estimators=150; total time=  14.5s\n",
      "[CV] END max_depth=30, max_features=sqrt, min_samples_leaf=4, min_samples_split=2, n_estimators=150; total time=  15.1s\n",
      "[CV] END max_depth=30, max_features=sqrt, min_samples_leaf=4, min_samples_split=2, n_estimators=150; total time=  15.9s\n",
      "[CV] END max_depth=None, max_features=auto, min_samples_leaf=1, min_samples_split=2, n_estimators=50; total time=   6.0s\n",
      "[CV] END max_depth=None, max_features=auto, min_samples_leaf=1, min_samples_split=2, n_estimators=50; total time=   5.7s\n",
      "[CV] END max_depth=None, max_features=auto, min_samples_leaf=1, min_samples_split=2, n_estimators=50; total time=   5.1s\n",
      "[CV] END max_depth=None, max_features=auto, min_samples_leaf=1, min_samples_split=2, n_estimators=50; total time=   4.7s\n",
      "[CV] END max_depth=None, max_features=auto, min_samples_leaf=1, min_samples_split=2, n_estimators=50; total time=   5.3s\n",
      "[CV] END max_depth=None, max_features=auto, min_samples_leaf=1, min_samples_split=2, n_estimators=100; total time=  10.5s\n",
      "[CV] END max_depth=None, max_features=auto, min_samples_leaf=1, min_samples_split=2, n_estimators=100; total time=   9.8s\n",
      "[CV] END max_depth=None, max_features=auto, min_samples_leaf=1, min_samples_split=2, n_estimators=100; total time=  10.4s\n",
      "[CV] END max_depth=None, max_features=auto, min_samples_leaf=1, min_samples_split=2, n_estimators=100; total time=  10.3s\n",
      "[CV] END max_depth=None, max_features=auto, min_samples_leaf=1, min_samples_split=2, n_estimators=100; total time=  10.5s\n",
      "[CV] END max_depth=None, max_features=auto, min_samples_leaf=1, min_samples_split=2, n_estimators=150; total time=  14.5s\n",
      "[CV] END max_depth=None, max_features=auto, min_samples_leaf=1, min_samples_split=2, n_estimators=150; total time=  15.6s\n",
      "[CV] END max_depth=None, max_features=auto, min_samples_leaf=1, min_samples_split=2, n_estimators=150; total time=  13.7s\n",
      "[CV] END max_depth=None, max_features=auto, min_samples_leaf=1, min_samples_split=2, n_estimators=150; total time=  13.9s\n",
      "[CV] END max_depth=None, max_features=auto, min_samples_leaf=1, min_samples_split=2, n_estimators=150; total time=  14.7s\n",
      "[CV] END max_depth=None, max_features=auto, min_samples_leaf=2, min_samples_split=2, n_estimators=50; total time=   4.7s\n",
      "[CV] END max_depth=None, max_features=auto, min_samples_leaf=2, min_samples_split=2, n_estimators=50; total time=   4.6s\n",
      "[CV] END max_depth=None, max_features=auto, min_samples_leaf=2, min_samples_split=2, n_estimators=50; total time=   5.0s\n",
      "[CV] END max_depth=None, max_features=auto, min_samples_leaf=2, min_samples_split=2, n_estimators=50; total time=   5.3s\n",
      "[CV] END max_depth=None, max_features=auto, min_samples_leaf=2, min_samples_split=2, n_estimators=50; total time=   4.8s\n",
      "[CV] END max_depth=None, max_features=auto, min_samples_leaf=2, min_samples_split=2, n_estimators=100; total time=   9.7s\n",
      "[CV] END max_depth=None, max_features=auto, min_samples_leaf=2, min_samples_split=2, n_estimators=100; total time=   9.6s\n",
      "[CV] END max_depth=None, max_features=auto, min_samples_leaf=2, min_samples_split=2, n_estimators=100; total time=   9.5s\n",
      "[CV] END max_depth=None, max_features=auto, min_samples_leaf=2, min_samples_split=2, n_estimators=100; total time=   9.2s\n",
      "[CV] END max_depth=None, max_features=auto, min_samples_leaf=2, min_samples_split=2, n_estimators=100; total time=   9.4s\n",
      "[CV] END max_depth=None, max_features=auto, min_samples_leaf=2, min_samples_split=2, n_estimators=150; total time=  14.3s\n",
      "[CV] END max_depth=None, max_features=auto, min_samples_leaf=2, min_samples_split=2, n_estimators=150; total time=  14.5s\n",
      "[CV] END max_depth=None, max_features=auto, min_samples_leaf=2, min_samples_split=2, n_estimators=150; total time=  14.2s\n",
      "[CV] END max_depth=None, max_features=auto, min_samples_leaf=2, min_samples_split=2, n_estimators=150; total time=  14.0s\n",
      "[CV] END max_depth=None, max_features=auto, min_samples_leaf=2, min_samples_split=2, n_estimators=150; total time=  13.2s\n",
      "[CV] END max_depth=None, max_features=auto, min_samples_leaf=4, min_samples_split=2, n_estimators=50; total time=   5.1s\n",
      "[CV] END max_depth=None, max_features=auto, min_samples_leaf=4, min_samples_split=2, n_estimators=50; total time=   4.8s\n",
      "[CV] END max_depth=None, max_features=auto, min_samples_leaf=4, min_samples_split=2, n_estimators=50; total time=   4.9s\n",
      "[CV] END max_depth=None, max_features=auto, min_samples_leaf=4, min_samples_split=2, n_estimators=50; total time=   4.8s\n",
      "[CV] END max_depth=None, max_features=auto, min_samples_leaf=4, min_samples_split=2, n_estimators=50; total time=   4.7s\n",
      "[CV] END max_depth=None, max_features=auto, min_samples_leaf=4, min_samples_split=2, n_estimators=100; total time=   9.2s\n",
      "[CV] END max_depth=None, max_features=auto, min_samples_leaf=4, min_samples_split=2, n_estimators=100; total time=   9.4s\n",
      "[CV] END max_depth=None, max_features=auto, min_samples_leaf=4, min_samples_split=2, n_estimators=100; total time=  10.4s\n",
      "[CV] END max_depth=None, max_features=auto, min_samples_leaf=4, min_samples_split=2, n_estimators=100; total time=   9.8s\n",
      "[CV] END max_depth=None, max_features=auto, min_samples_leaf=4, min_samples_split=2, n_estimators=100; total time=  10.2s\n",
      "[CV] END max_depth=None, max_features=auto, min_samples_leaf=4, min_samples_split=2, n_estimators=150; total time=  15.2s\n",
      "[CV] END max_depth=None, max_features=auto, min_samples_leaf=4, min_samples_split=2, n_estimators=150; total time=  17.0s\n",
      "[CV] END max_depth=None, max_features=auto, min_samples_leaf=4, min_samples_split=2, n_estimators=150; total time=  15.3s\n",
      "[CV] END max_depth=None, max_features=auto, min_samples_leaf=4, min_samples_split=2, n_estimators=150; total time=  15.1s\n",
      "[CV] END max_depth=None, max_features=auto, min_samples_leaf=4, min_samples_split=2, n_estimators=150; total time=  14.4s\n",
      "[CV] END max_depth=None, max_features=sqrt, min_samples_leaf=1, min_samples_split=2, n_estimators=50; total time=   5.1s\n",
      "[CV] END max_depth=None, max_features=sqrt, min_samples_leaf=1, min_samples_split=2, n_estimators=50; total time=   5.3s\n",
      "[CV] END max_depth=None, max_features=sqrt, min_samples_leaf=1, min_samples_split=2, n_estimators=50; total time=   4.8s\n",
      "[CV] END max_depth=None, max_features=sqrt, min_samples_leaf=1, min_samples_split=2, n_estimators=50; total time=   6.0s\n",
      "[CV] END max_depth=None, max_features=sqrt, min_samples_leaf=1, min_samples_split=2, n_estimators=50; total time=   3.2s\n",
      "[CV] END max_depth=None, max_features=sqrt, min_samples_leaf=1, min_samples_split=2, n_estimators=100; total time=   6.2s\n",
      "[CV] END max_depth=None, max_features=sqrt, min_samples_leaf=1, min_samples_split=2, n_estimators=100; total time=   6.3s\n",
      "[CV] END max_depth=None, max_features=sqrt, min_samples_leaf=1, min_samples_split=2, n_estimators=100; total time=   5.4s\n",
      "[CV] END max_depth=None, max_features=sqrt, min_samples_leaf=1, min_samples_split=2, n_estimators=100; total time=   5.5s\n",
      "[CV] END max_depth=None, max_features=sqrt, min_samples_leaf=1, min_samples_split=2, n_estimators=100; total time=   5.1s\n",
      "[CV] END max_depth=None, max_features=sqrt, min_samples_leaf=1, min_samples_split=2, n_estimators=150; total time=   7.6s\n",
      "[CV] END max_depth=None, max_features=sqrt, min_samples_leaf=1, min_samples_split=2, n_estimators=150; total time=   8.0s\n",
      "[CV] END max_depth=None, max_features=sqrt, min_samples_leaf=1, min_samples_split=2, n_estimators=150; total time=   7.7s\n",
      "[CV] END max_depth=None, max_features=sqrt, min_samples_leaf=1, min_samples_split=2, n_estimators=150; total time=   8.1s\n",
      "[CV] END max_depth=None, max_features=sqrt, min_samples_leaf=1, min_samples_split=2, n_estimators=150; total time=   7.9s\n",
      "[CV] END max_depth=None, max_features=sqrt, min_samples_leaf=2, min_samples_split=2, n_estimators=50; total time=   2.6s\n",
      "[CV] END max_depth=None, max_features=sqrt, min_samples_leaf=2, min_samples_split=2, n_estimators=50; total time=   2.5s\n",
      "[CV] END max_depth=None, max_features=sqrt, min_samples_leaf=2, min_samples_split=2, n_estimators=50; total time=   2.9s\n",
      "[CV] END max_depth=None, max_features=sqrt, min_samples_leaf=2, min_samples_split=2, n_estimators=50; total time=   2.8s\n",
      "[CV] END max_depth=None, max_features=sqrt, min_samples_leaf=2, min_samples_split=2, n_estimators=50; total time=   2.3s\n",
      "[CV] END max_depth=None, max_features=sqrt, min_samples_leaf=2, min_samples_split=2, n_estimators=100; total time=   5.1s\n",
      "[CV] END max_depth=None, max_features=sqrt, min_samples_leaf=2, min_samples_split=2, n_estimators=100; total time=   5.3s\n",
      "[CV] END max_depth=None, max_features=sqrt, min_samples_leaf=2, min_samples_split=2, n_estimators=100; total time=   5.4s\n",
      "[CV] END max_depth=None, max_features=sqrt, min_samples_leaf=2, min_samples_split=2, n_estimators=100; total time=   5.8s\n",
      "[CV] END max_depth=None, max_features=sqrt, min_samples_leaf=2, min_samples_split=2, n_estimators=100; total time=   5.3s\n",
      "[CV] END max_depth=None, max_features=sqrt, min_samples_leaf=2, min_samples_split=2, n_estimators=150; total time=   7.7s\n",
      "[CV] END max_depth=None, max_features=sqrt, min_samples_leaf=2, min_samples_split=2, n_estimators=150; total time=   7.6s\n",
      "[CV] END max_depth=None, max_features=sqrt, min_samples_leaf=2, min_samples_split=2, n_estimators=150; total time=   7.7s\n",
      "[CV] END max_depth=None, max_features=sqrt, min_samples_leaf=2, min_samples_split=2, n_estimators=150; total time=   8.0s\n",
      "[CV] END max_depth=None, max_features=sqrt, min_samples_leaf=2, min_samples_split=2, n_estimators=150; total time=   8.0s\n",
      "[CV] END max_depth=None, max_features=sqrt, min_samples_leaf=4, min_samples_split=2, n_estimators=50; total time=   2.6s\n",
      "[CV] END max_depth=None, max_features=sqrt, min_samples_leaf=4, min_samples_split=2, n_estimators=50; total time=   2.7s\n",
      "[CV] END max_depth=None, max_features=sqrt, min_samples_leaf=4, min_samples_split=2, n_estimators=50; total time=   2.2s\n",
      "[CV] END max_depth=None, max_features=sqrt, min_samples_leaf=4, min_samples_split=2, n_estimators=50; total time=   2.6s\n",
      "[CV] END max_depth=None, max_features=sqrt, min_samples_leaf=4, min_samples_split=2, n_estimators=50; total time=   2.5s\n",
      "[CV] END max_depth=None, max_features=sqrt, min_samples_leaf=4, min_samples_split=2, n_estimators=100; total time=   5.1s\n",
      "[CV] END max_depth=None, max_features=sqrt, min_samples_leaf=4, min_samples_split=2, n_estimators=100; total time=   6.1s\n",
      "[CV] END max_depth=None, max_features=sqrt, min_samples_leaf=4, min_samples_split=2, n_estimators=100; total time=   5.1s\n",
      "[CV] END max_depth=None, max_features=sqrt, min_samples_leaf=4, min_samples_split=2, n_estimators=100; total time=   5.1s\n",
      "[CV] END max_depth=None, max_features=sqrt, min_samples_leaf=4, min_samples_split=2, n_estimators=100; total time=   4.9s\n",
      "[CV] END max_depth=None, max_features=sqrt, min_samples_leaf=4, min_samples_split=2, n_estimators=150; total time=   7.8s\n",
      "[CV] END max_depth=None, max_features=sqrt, min_samples_leaf=4, min_samples_split=2, n_estimators=150; total time=   8.1s\n",
      "[CV] END max_depth=None, max_features=sqrt, min_samples_leaf=4, min_samples_split=2, n_estimators=150; total time=   7.8s\n",
      "[CV] END max_depth=None, max_features=sqrt, min_samples_leaf=4, min_samples_split=2, n_estimators=150; total time=   9.9s\n",
      "[CV] END max_depth=None, max_features=sqrt, min_samples_leaf=4, min_samples_split=2, n_estimators=150; total time=   8.7s\n"
     ]
    },
    {
     "data": {
      "text/html": [
       "<style>#sk-container-id-2 {color: black;background-color: white;}#sk-container-id-2 pre{padding: 0;}#sk-container-id-2 div.sk-toggleable {background-color: white;}#sk-container-id-2 label.sk-toggleable__label {cursor: pointer;display: block;width: 100%;margin-bottom: 0;padding: 0.3em;box-sizing: border-box;text-align: center;}#sk-container-id-2 label.sk-toggleable__label-arrow:before {content: \"▸\";float: left;margin-right: 0.25em;color: #696969;}#sk-container-id-2 label.sk-toggleable__label-arrow:hover:before {color: black;}#sk-container-id-2 div.sk-estimator:hover label.sk-toggleable__label-arrow:before {color: black;}#sk-container-id-2 div.sk-toggleable__content {max-height: 0;max-width: 0;overflow: hidden;text-align: left;background-color: #f0f8ff;}#sk-container-id-2 div.sk-toggleable__content pre {margin: 0.2em;color: black;border-radius: 0.25em;background-color: #f0f8ff;}#sk-container-id-2 input.sk-toggleable__control:checked~div.sk-toggleable__content {max-height: 200px;max-width: 100%;overflow: auto;}#sk-container-id-2 input.sk-toggleable__control:checked~label.sk-toggleable__label-arrow:before {content: \"▾\";}#sk-container-id-2 div.sk-estimator input.sk-toggleable__control:checked~label.sk-toggleable__label {background-color: #d4ebff;}#sk-container-id-2 div.sk-label input.sk-toggleable__control:checked~label.sk-toggleable__label {background-color: #d4ebff;}#sk-container-id-2 input.sk-hidden--visually {border: 0;clip: rect(1px 1px 1px 1px);clip: rect(1px, 1px, 1px, 1px);height: 1px;margin: -1px;overflow: hidden;padding: 0;position: absolute;width: 1px;}#sk-container-id-2 div.sk-estimator {font-family: monospace;background-color: #f0f8ff;border: 1px dotted black;border-radius: 0.25em;box-sizing: border-box;margin-bottom: 0.5em;}#sk-container-id-2 div.sk-estimator:hover {background-color: #d4ebff;}#sk-container-id-2 div.sk-parallel-item::after {content: \"\";width: 100%;border-bottom: 1px solid gray;flex-grow: 1;}#sk-container-id-2 div.sk-label:hover label.sk-toggleable__label {background-color: #d4ebff;}#sk-container-id-2 div.sk-serial::before {content: \"\";position: absolute;border-left: 1px solid gray;box-sizing: border-box;top: 0;bottom: 0;left: 50%;z-index: 0;}#sk-container-id-2 div.sk-serial {display: flex;flex-direction: column;align-items: center;background-color: white;padding-right: 0.2em;padding-left: 0.2em;position: relative;}#sk-container-id-2 div.sk-item {position: relative;z-index: 1;}#sk-container-id-2 div.sk-parallel {display: flex;align-items: stretch;justify-content: center;background-color: white;position: relative;}#sk-container-id-2 div.sk-item::before, #sk-container-id-2 div.sk-parallel-item::before {content: \"\";position: absolute;border-left: 1px solid gray;box-sizing: border-box;top: 0;bottom: 0;left: 50%;z-index: -1;}#sk-container-id-2 div.sk-parallel-item {display: flex;flex-direction: column;z-index: 1;position: relative;background-color: white;}#sk-container-id-2 div.sk-parallel-item:first-child::after {align-self: flex-end;width: 50%;}#sk-container-id-2 div.sk-parallel-item:last-child::after {align-self: flex-start;width: 50%;}#sk-container-id-2 div.sk-parallel-item:only-child::after {width: 0;}#sk-container-id-2 div.sk-dashed-wrapped {border: 1px dashed gray;margin: 0 0.4em 0.5em 0.4em;box-sizing: border-box;padding-bottom: 0.4em;background-color: white;}#sk-container-id-2 div.sk-label label {font-family: monospace;font-weight: bold;display: inline-block;line-height: 1.2em;}#sk-container-id-2 div.sk-label-container {text-align: center;}#sk-container-id-2 div.sk-container {/* jupyter's `normalize.less` sets `[hidden] { display: none; }` but bootstrap.min.css set `[hidden] { display: none !important; }` so we also need the `!important` here to be able to override the default hidden behavior on the sphinx rendered scikit-learn.org. See: https://github.com/scikit-learn/scikit-learn/issues/21755 */display: inline-block !important;position: relative;}#sk-container-id-2 div.sk-text-repr-fallback {display: none;}</style><div id=\"sk-container-id-2\" class=\"sk-top-container\"><div class=\"sk-text-repr-fallback\"><pre>GridSearchCV(cv=5, estimator=RandomForestClassifier(n_jobs=1),\n",
       "             param_grid={&#x27;max_depth&#x27;: [30, None],\n",
       "                         &#x27;max_features&#x27;: [&#x27;auto&#x27;, &#x27;sqrt&#x27;],\n",
       "                         &#x27;min_samples_leaf&#x27;: [1, 2, 4],\n",
       "                         &#x27;min_samples_split&#x27;: [2],\n",
       "                         &#x27;n_estimators&#x27;: [50, 100, 150]},\n",
       "             verbose=2)</pre><b>In a Jupyter environment, please rerun this cell to show the HTML representation or trust the notebook. <br />On GitHub, the HTML representation is unable to render, please try loading this page with nbviewer.org.</b></div><div class=\"sk-container\" hidden><div class=\"sk-item sk-dashed-wrapped\"><div class=\"sk-label-container\"><div class=\"sk-label sk-toggleable\"><input class=\"sk-toggleable__control sk-hidden--visually\" id=\"sk-estimator-id-4\" type=\"checkbox\" ><label for=\"sk-estimator-id-4\" class=\"sk-toggleable__label sk-toggleable__label-arrow\">GridSearchCV</label><div class=\"sk-toggleable__content\"><pre>GridSearchCV(cv=5, estimator=RandomForestClassifier(n_jobs=1),\n",
       "             param_grid={&#x27;max_depth&#x27;: [30, None],\n",
       "                         &#x27;max_features&#x27;: [&#x27;auto&#x27;, &#x27;sqrt&#x27;],\n",
       "                         &#x27;min_samples_leaf&#x27;: [1, 2, 4],\n",
       "                         &#x27;min_samples_split&#x27;: [2],\n",
       "                         &#x27;n_estimators&#x27;: [50, 100, 150]},\n",
       "             verbose=2)</pre></div></div></div><div class=\"sk-parallel\"><div class=\"sk-parallel-item\"><div class=\"sk-item\"><div class=\"sk-label-container\"><div class=\"sk-label sk-toggleable\"><input class=\"sk-toggleable__control sk-hidden--visually\" id=\"sk-estimator-id-5\" type=\"checkbox\" ><label for=\"sk-estimator-id-5\" class=\"sk-toggleable__label sk-toggleable__label-arrow\">estimator: RandomForestClassifier</label><div class=\"sk-toggleable__content\"><pre>RandomForestClassifier(n_jobs=1)</pre></div></div></div><div class=\"sk-serial\"><div class=\"sk-item\"><div class=\"sk-estimator sk-toggleable\"><input class=\"sk-toggleable__control sk-hidden--visually\" id=\"sk-estimator-id-6\" type=\"checkbox\" ><label for=\"sk-estimator-id-6\" class=\"sk-toggleable__label sk-toggleable__label-arrow\">RandomForestClassifier</label><div class=\"sk-toggleable__content\"><pre>RandomForestClassifier(n_jobs=1)</pre></div></div></div></div></div></div></div></div></div></div>"
      ],
      "text/plain": [
       "GridSearchCV(cv=5, estimator=RandomForestClassifier(n_jobs=1),\n",
       "             param_grid={'max_depth': [30, None],\n",
       "                         'max_features': ['auto', 'sqrt'],\n",
       "                         'min_samples_leaf': [1, 2, 4],\n",
       "                         'min_samples_split': [2],\n",
       "                         'n_estimators': [50, 100, 150]},\n",
       "             verbose=2)"
      ]
     },
     "execution_count": 31,
     "metadata": {},
     "output_type": "execute_result"
    }
   ],
   "source": [
    "from sklearn.model_selection import GridSearchCV\n",
    "\n",
    "# Setup grid-2 (refined version of grid)\n",
    "grid_2 = {'n_estimators': [50, 100, 150],\n",
    "          'max_depth': [30, None],\n",
    "          'max_features': ['auto', 'sqrt'],\n",
    "          'min_samples_split': [2],\n",
    "          'min_samples_leaf': [1, 2, 4]}\n",
    "\n",
    "# Instantiate RandomForestClassifier\n",
    "clf = RandomForestClassifier(n_jobs=1)\n",
    "\n",
    "# Setup GridSearchCV\n",
    "gs_clf = GridSearchCV(estimator=clf,\n",
    "                      param_grid=grid_2, \n",
    "                      cv=5,\n",
    "                      verbose=2,\n",
    "                      refit=True) # set refit=True (default) to refit the best model on the full dataset\n",
    "\n",
    "# Fit the GridSearchCV version of clf\n",
    "gs_clf.fit(x_train, y_train) # 'gs' is short for GridSearch"
   ]
  },
  {
   "cell_type": "code",
   "execution_count": 32,
   "id": "d4f79559",
   "metadata": {},
   "outputs": [
    {
     "data": {
      "text/plain": [
       "{'max_depth': 30,\n",
       " 'max_features': 'auto',\n",
       " 'min_samples_leaf': 1,\n",
       " 'min_samples_split': 2,\n",
       " 'n_estimators': 50}"
      ]
     },
     "execution_count": 32,
     "metadata": {},
     "output_type": "execute_result"
    }
   ],
   "source": [
    "# Find best parameters of GridSearchCV\n",
    "gs_clf.best_params_"
   ]
  },
  {
   "cell_type": "code",
   "execution_count": 33,
   "id": "61209717",
   "metadata": {},
   "outputs": [
    {
     "name": "stdout",
     "output_type": "stream",
     "text": [
      "Acc: 99.95%\n",
      "Precision: 1.00\n",
      "Recall: 1.00\n",
      "F1 score: 1.00\n"
     ]
    }
   ],
   "source": [
    "# Evaluate GridSearchCV model\n",
    "gs_y_pred = gs_clf.predict(x_test)\n",
    "\n",
    "# Evaluate the classifier on validation set\n",
    "gs_metrics = evaluate_pred(y_test, gs_y_pred)"
   ]
  },
  {
   "cell_type": "markdown",
   "id": "185b8668",
   "metadata": {},
   "source": [
    "***Compare metrics***"
   ]
  },
  {
   "cell_type": "code",
   "execution_count": 34,
   "id": "b74cf4ed",
   "metadata": {},
   "outputs": [
    {
     "data": {
      "image/png": "[encoded data removed]",
      "text/plain": [
       "<Figure size 1000x800 with 1 Axes>"
      ]
     },
     "metadata": {},
     "output_type": "display_data"
    }
   ],
   "source": [
    "compare_metrics = pd.DataFrame({\"baseline\": baseline_metrics,\n",
    "                                \"random search\": rs_metrics,\n",
    "                                \"grid search\": gs_metrics})\n",
    "\n",
    "compare_metrics.plot.bar(figsize=(10, 8));"
   ]
  },
  {
   "cell_type": "markdown",
   "id": "164d7029",
   "metadata": {},
   "source": [
    "## Support Vector Machines"
   ]
  },
  {
   "cell_type": "code",
   "execution_count": 35,
   "id": "db7f76b3",
   "metadata": {},
   "outputs": [
    {
     "data": {
      "text/plain": [
       "0.9850318885851881"
      ]
     },
     "execution_count": 35,
     "metadata": {},
     "output_type": "execute_result"
    }
   ],
   "source": [
    "# Import algorithm\n",
    "# split in to x and y\n",
    "\n",
    "# create x label\n",
    "x = df.drop(['Class'], axis=1)\n",
    "\n",
    "# create y label\n",
    "y = df['Class']\n",
    "\n",
    "# split into train set and test set\n",
    "from sklearn.model_selection import train_test_split\n",
    "\n",
    "x_train, x_test, y_train, y_test = train_test_split(x, y, test_size = 0.3, random_state = 0)\n",
    "\n",
    "# # import model\n",
    "from sklearn.pipeline import make_pipeline\n",
    "from sklearn.preprocessing import StandardScaler\n",
    "from sklearn.svm import SVC\n",
    "clf = make_pipeline(StandardScaler(), SVC(gamma='auto'))\n",
    "\n",
    "\n",
    "# fit the model to the training set\n",
    "\n",
    "clf.fit(x_train, y_train)\n",
    "\n",
    "# Predict on the test set results\n",
    "\n",
    "y_pred = clf.predict(x_test)\n",
    "np.mean(y_pred==y_test)\n"
   ]
  },
  {
   "cell_type": "code",
   "execution_count": 36,
   "id": "4e4bf876",
   "metadata": {},
   "outputs": [
    {
     "data": {
      "text/plain": [
       "0.9839339506861542"
      ]
     },
     "execution_count": 36,
     "metadata": {},
     "output_type": "execute_result"
    }
   ],
   "source": [
    "clf.score(x_train,y_train)"
   ]
  },
  {
   "cell_type": "code",
   "execution_count": 37,
   "id": "e89a994f",
   "metadata": {},
   "outputs": [
    {
     "data": {
      "text/plain": [
       "0.9850318885851881"
      ]
     },
     "execution_count": 37,
     "metadata": {},
     "output_type": "execute_result"
    }
   ],
   "source": [
    "clf.score(x_test,y_test)"
   ]
  },
  {
   "cell_type": "code",
   "execution_count": 38,
   "id": "e30e9ec0",
   "metadata": {},
   "outputs": [
    {
     "data": {
      "text/plain": [
       "0.9850318885851881"
      ]
     },
     "execution_count": 38,
     "metadata": {},
     "output_type": "execute_result"
    }
   ],
   "source": [
    "# Accuracy classification score\n",
    "from sklearn.metrics import accuracy_score\n",
    "accuracy_score(y_test,y_pred)"
   ]
  },
  {
   "cell_type": "markdown",
   "id": "b737be25",
   "metadata": {},
   "source": [
    "## SGDClassifier (Stochastic Gradient Descent)"
   ]
  },
  {
   "cell_type": "code",
   "execution_count": 39,
   "id": "9fb22e0d",
   "metadata": {},
   "outputs": [
    {
     "data": {
      "text/plain": [
       "0.7844591956267083"
      ]
     },
     "execution_count": 39,
     "metadata": {},
     "output_type": "execute_result"
    }
   ],
   "source": [
    "# Import algorithm\n",
    "# split in to x and y\n",
    "\n",
    "# create x label\n",
    "x = df.drop(['Class'], axis=1)\n",
    "# create y label\n",
    "y = df['Class']\n",
    "\n",
    "from sklearn.model_selection import train_test_split\n",
    "\n",
    "# split into train set and test set\n",
    "x_train, x_test, y_train, y_test = train_test_split(x, y, test_size = 0.2, random_state = 0)\n",
    "\n",
    "# import model\n",
    "from sklearn.linear_model import SGDClassifier\n",
    "\n",
    "clf = SGDClassifier(loss=\"hinge\", penalty=\"l2\", max_iter=5)\n",
    "\n",
    "\n",
    "# fit the model to the training set\n",
    "\n",
    "clf.fit(x_train, y_train)\n",
    "\n",
    "# Predict on the test set results\n",
    "\n",
    "y_pred = clf.predict(x_test)\n",
    "np.mean(y_pred==y_test)\n"
   ]
  },
  {
   "cell_type": "code",
   "execution_count": 40,
   "id": "9a261634",
   "metadata": {},
   "outputs": [
    {
     "data": {
      "text/plain": [
       "0.7831307658515156"
      ]
     },
     "execution_count": 40,
     "metadata": {},
     "output_type": "execute_result"
    }
   ],
   "source": [
    "clf.score(x_train,y_train)"
   ]
  },
  {
   "cell_type": "code",
   "execution_count": 41,
   "id": "a10838c7",
   "metadata": {},
   "outputs": [
    {
     "data": {
      "text/plain": [
       "0.7844591956267083"
      ]
     },
     "execution_count": 41,
     "metadata": {},
     "output_type": "execute_result"
    }
   ],
   "source": [
    "clf.score(x_test,y_test)"
   ]
  },
  {
   "cell_type": "code",
   "execution_count": 42,
   "id": "5f1f2787",
   "metadata": {},
   "outputs": [
    {
     "data": {
      "text/plain": [
       "0.7844591956267083"
      ]
     },
     "execution_count": 42,
     "metadata": {},
     "output_type": "execute_result"
    }
   ],
   "source": [
    "# Accuracy classification score\n",
    "from sklearn.metrics import accuracy_score\n",
    "accuracy_score(y_test,y_pred)"
   ]
  },
  {
   "cell_type": "markdown",
   "id": "a0ddc3fc",
   "metadata": {},
   "source": [
    "## KNeighborsClassifier"
   ]
  },
  {
   "cell_type": "code",
   "execution_count": 43,
   "id": "7c48771d",
   "metadata": {},
   "outputs": [
    {
     "data": {
      "text/plain": [
       "0.9673955486138227"
      ]
     },
     "execution_count": 43,
     "metadata": {},
     "output_type": "execute_result"
    }
   ],
   "source": [
    "# Import algorithm\n",
    "# split in to x and y\n",
    "\n",
    "# create x label\n",
    "x = df.drop(['Class'], axis=1)\n",
    "# create y label\n",
    "y = df['Class']\n",
    "\n",
    "from sklearn.model_selection import train_test_split\n",
    "\n",
    "# split into train set and test set\n",
    "x_train, x_test, y_train, y_test = train_test_split(x, y, test_size = 0.2, random_state = 0)\n",
    "\n",
    "# import model\n",
    "from sklearn.neighbors import KNeighborsClassifier\n",
    "neigh = KNeighborsClassifier(n_neighbors=3)\n",
    "\n",
    "\n",
    "# fit the model to the training set\n",
    "\n",
    "neigh.fit(x_train, y_train)\n",
    "\n",
    "# Predict on the test set results\n",
    "\n",
    "y_pred = neigh.predict(x_test)\n",
    "np.mean(y_pred==y_test)\n"
   ]
  },
  {
   "cell_type": "code",
   "execution_count": 44,
   "id": "0b827fda",
   "metadata": {},
   "outputs": [
    {
     "data": {
      "text/plain": [
       "0.9792063259628057"
      ]
     },
     "execution_count": 44,
     "metadata": {},
     "output_type": "execute_result"
    }
   ],
   "source": [
    "neigh.score(x_train,y_train)"
   ]
  },
  {
   "cell_type": "code",
   "execution_count": 45,
   "id": "aad4b3de",
   "metadata": {},
   "outputs": [
    {
     "data": {
      "text/plain": [
       "0.9673955486138227"
      ]
     },
     "execution_count": 45,
     "metadata": {},
     "output_type": "execute_result"
    }
   ],
   "source": [
    "neigh.score(x_test,y_test)"
   ]
  },
  {
   "cell_type": "code",
   "execution_count": 46,
   "id": "fdae0131",
   "metadata": {},
   "outputs": [
    {
     "data": {
      "text/plain": [
       "0.9673955486138227"
      ]
     },
     "execution_count": 46,
     "metadata": {},
     "output_type": "execute_result"
    }
   ],
   "source": [
    "# Accuracy classification score\n",
    "from sklearn.metrics import accuracy_score\n",
    "accuracy_score(y_test,y_pred)"
   ]
  },
  {
   "cell_type": "markdown",
   "id": "52b2f434",
   "metadata": {},
   "source": [
    "## Kernel Approximation\n",
    "## Radial Basis Function Kernel"
   ]
  },
  {
   "cell_type": "code",
   "execution_count": 47,
   "id": "5ae86b75",
   "metadata": {},
   "outputs": [
    {
     "data": {
      "text/plain": [
       "0.6411557985162046"
      ]
     },
     "execution_count": 47,
     "metadata": {},
     "output_type": "execute_result"
    }
   ],
   "source": [
    "# Import algorithm\n",
    "# split in to x and y\n",
    "\n",
    "# create x label\n",
    "x = df.drop(['Class'], axis=1)\n",
    "# create y label\n",
    "y = df['Class']\n",
    "\n",
    "from sklearn.model_selection import train_test_split\n",
    "\n",
    "# split into train set and test set\n",
    "x_train, x_test, y_train, y_test = train_test_split(x, y, test_size = 0.2, random_state = 0)\n",
    "\n",
    "# import model\n",
    "from sklearn.kernel_approximation import RBFSampler\n",
    "from sklearn.linear_model import SGDClassifier\n",
    "rbf_feature = RBFSampler(gamma=1, random_state=1)\n",
    "x_features = rbf_feature.fit_transform(x_train)\n",
    "clf = SGDClassifier(max_iter=5)\n",
    "\n",
    "\n",
    "# fit the model to the training set\n",
    "\n",
    "clf.fit(x_train, y_train)\n",
    "\n",
    "# Predict on the test set results\n",
    "\n",
    "y_pred = clf.predict(x_test)\n",
    "np.mean(y_pred==y_test)\n"
   ]
  },
  {
   "cell_type": "code",
   "execution_count": 48,
   "id": "c620fc1b",
   "metadata": {},
   "outputs": [
    {
     "data": {
      "text/plain": [
       "0.6465075413676966"
      ]
     },
     "execution_count": 48,
     "metadata": {},
     "output_type": "execute_result"
    }
   ],
   "source": [
    "clf.score(x_train,y_train)"
   ]
  },
  {
   "cell_type": "code",
   "execution_count": 49,
   "id": "395f0415",
   "metadata": {},
   "outputs": [
    {
     "data": {
      "text/plain": [
       "0.6411557985162046"
      ]
     },
     "execution_count": 49,
     "metadata": {},
     "output_type": "execute_result"
    }
   ],
   "source": [
    "clf.score(x_test,y_test)"
   ]
  },
  {
   "cell_type": "code",
   "execution_count": 50,
   "id": "bb3020c9",
   "metadata": {},
   "outputs": [
    {
     "data": {
      "text/plain": [
       "0.6411557985162046"
      ]
     },
     "execution_count": 50,
     "metadata": {},
     "output_type": "execute_result"
    }
   ],
   "source": [
    "# Accuracy classification score\n",
    "from sklearn.metrics import accuracy_score\n",
    "accuracy_score(y_test,y_pred)"
   ]
  },
  {
   "cell_type": "markdown",
   "id": "18bd1b0c",
   "metadata": {},
   "source": [
    "## Ensemble methods\n",
    "## Bagging meta-estimator"
   ]
  },
  {
   "cell_type": "code",
   "execution_count": 51,
   "id": "14667e97",
   "metadata": {},
   "outputs": [
    {
     "data": {
      "text/plain": [
       "0.6411557985162046"
      ]
     },
     "execution_count": 51,
     "metadata": {},
     "output_type": "execute_result"
    }
   ],
   "source": [
    "# Import algorithm\n",
    "# split in to x and y\n",
    "\n",
    "# create x label\n",
    "x = df.drop(['Class'], axis=1)\n",
    "# create y label\n",
    "y = df['Class']\n",
    "\n",
    "from sklearn.model_selection import train_test_split\n",
    "\n",
    "# split into train set and test set\n",
    "x_train, x_test, y_train, y_test = train_test_split(x, y, test_size = 0.2, random_state = 0)\n",
    "\n",
    "# import model\n",
    "from sklearn.ensemble import BaggingClassifier\n",
    "from sklearn.neighbors import KNeighborsClassifier\n",
    "model = BaggingClassifier(KNeighborsClassifier(),max_samples=0.5, max_features=0.5)\n",
    "\n",
    "\n",
    "# fit the model to the training set\n",
    "\n",
    "model.fit(x_train, y_train)\n",
    "\n",
    "# Predict on the test set results\n",
    "\n",
    "y_pred = clf.predict(x_test)\n",
    "np.mean(y_pred==y_test)\n"
   ]
  },
  {
   "cell_type": "code",
   "execution_count": 52,
   "id": "0e877dc5",
   "metadata": {},
   "outputs": [
    {
     "data": {
      "text/plain": [
       "0.9858446819934593"
      ]
     },
     "execution_count": 52,
     "metadata": {},
     "output_type": "execute_result"
    }
   ],
   "source": [
    "model.score(x_train,y_train)"
   ]
  },
  {
   "cell_type": "code",
   "execution_count": 53,
   "id": "5926c049",
   "metadata": {},
   "outputs": [
    {
     "data": {
      "text/plain": [
       "0.9834049199531433"
      ]
     },
     "execution_count": 53,
     "metadata": {},
     "output_type": "execute_result"
    }
   ],
   "source": [
    "model.score(x_test,y_test)"
   ]
  },
  {
   "cell_type": "code",
   "execution_count": 54,
   "id": "8c29c4da",
   "metadata": {},
   "outputs": [
    {
     "data": {
      "text/plain": [
       "0.6411557985162046"
      ]
     },
     "execution_count": 54,
     "metadata": {},
     "output_type": "execute_result"
    }
   ],
   "source": [
    "# Accuracy classification score\n",
    "from sklearn.metrics import accuracy_score\n",
    "accuracy_score(y_test,y_pred)"
   ]
  },
  {
   "cell_type": "markdown",
   "id": "ac961376",
   "metadata": {},
   "source": [
    "## LinearSVC"
   ]
  },
  {
   "cell_type": "code",
   "execution_count": 55,
   "id": "3a8ed83f",
   "metadata": {},
   "outputs": [
    {
     "data": {
      "text/plain": [
       "0.93"
      ]
     },
     "execution_count": 55,
     "metadata": {},
     "output_type": "execute_result"
    }
   ],
   "source": [
    "# Import algorithm\n",
    "# split in to x and y\n",
    "\n",
    "# create x label\n",
    "x = df.drop(['Class'], axis=1)\n",
    "# create y label\n",
    "y = df['Class']\n",
    "\n",
    "from sklearn.model_selection import train_test_split\n",
    "\n",
    "# split into train set and test set\n",
    "x_train, x_test, y_train, y_test = train_test_split(x, y, test_size = 0.2, random_state = 0)\n",
    "\n",
    "# import model\n",
    "from sklearn.svm import LinearSVC\n",
    "from sklearn.pipeline import make_pipeline\n",
    "from sklearn.preprocessing import StandardScaler\n",
    "from sklearn.datasets import make_classification\n",
    "x_train, y_train = make_classification(n_features=4, random_state=0)\n",
    "clf = make_pipeline(StandardScaler(),LinearSVC(random_state=0, tol=1e-5))\n",
    "\n",
    "\n",
    "# fit the model to the training set\n",
    "\n",
    "clf.fit(x_train, y_train)\n",
    "# Predict on the test set results\n",
    "x_test, y_test = make_classification(n_features=4, random_state=0)\n",
    "\n",
    "# Predict on the test set results\n",
    "\n",
    "y_pred = clf.predict(x_test)\n",
    "np.mean(y_pred==y_test)\n",
    "\n"
   ]
  },
  {
   "cell_type": "code",
   "execution_count": 56,
   "id": "827d35cb",
   "metadata": {},
   "outputs": [
    {
     "data": {
      "text/plain": [
       "0.93"
      ]
     },
     "execution_count": 56,
     "metadata": {},
     "output_type": "execute_result"
    }
   ],
   "source": [
    "clf.score(x_train,y_train)"
   ]
  },
  {
   "cell_type": "code",
   "execution_count": 57,
   "id": "8d2ef5a3",
   "metadata": {},
   "outputs": [
    {
     "data": {
      "text/plain": [
       "0.93"
      ]
     },
     "execution_count": 57,
     "metadata": {},
     "output_type": "execute_result"
    }
   ],
   "source": [
    "\n",
    "clf.score(x_test,y_test)"
   ]
  },
  {
   "cell_type": "code",
   "execution_count": 58,
   "id": "a568ed73",
   "metadata": {},
   "outputs": [
    {
     "data": {
      "text/plain": [
       "0.93"
      ]
     },
     "execution_count": 58,
     "metadata": {},
     "output_type": "execute_result"
    }
   ],
   "source": [
    "# Accuracy classification score\n",
    "from sklearn.metrics import accuracy_score\n",
    "accuracy_score(y_test,y_pred)"
   ]
  },
  {
   "cell_type": "code",
   "execution_count": null,
   "id": "ecf35d1d",
   "metadata": {},
   "outputs": [],
   "source": []
  },
  {
   "cell_type": "code",
   "execution_count": null,
   "id": "6827436b",
   "metadata": {},
   "outputs": [],
   "source": []
  }
 ],
 "metadata": {
  "kernelspec": {
   "display_name": "Python 3 (ipykernel)",
   "language": "python",
   "name": "python3"
  },
  "language_info": {
   "codemirror_mode": {
    "name": "ipython",
    "version": 3
   },
   "file_extension": ".py",
   "mimetype": "text/x-python",
   "name": "python",
   "nbconvert_exporter": "python",
   "pygments_lexer": "ipython3",
   "version": "3.9.13"
  }
 },
 "nbformat": 4,
 "nbformat_minor": 5
}
